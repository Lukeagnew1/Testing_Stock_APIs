{
 "cells": [
  {
   "cell_type": "code",
   "execution_count": 96,
   "id": "0bf9eaeb-b065-43c3-8da5-2e62dc3e5dc6",
   "metadata": {},
   "outputs": [],
   "source": [
    "#Import Libraries\n",
    "\n",
    "import pandas as pd\n",
    "import numpy as np\n",
    "import matplotlib.pyplot as plt \n",
    "import yfinance as yf \n",
    "import statsmodels.api as sm\n",
    "import statsmodels as sms\n",
    "\n",
    "%matplotlib inline"
   ]
  },
  {
   "cell_type": "code",
   "execution_count": 97,
   "id": "06133bd4-a794-4e09-a5ba-1261c1b792d6",
   "metadata": {},
   "outputs": [
    {
     "name": "stdout",
     "output_type": "stream",
     "text": [
      "[*********************100%***********************]  1 of 1 completed\n"
     ]
    },
    {
     "data": {
      "text/html": [
       "<div>\n",
       "<style scoped>\n",
       "    .dataframe tbody tr th:only-of-type {\n",
       "        vertical-align: middle;\n",
       "    }\n",
       "\n",
       "    .dataframe tbody tr th {\n",
       "        vertical-align: top;\n",
       "    }\n",
       "\n",
       "    .dataframe thead th {\n",
       "        text-align: right;\n",
       "    }\n",
       "</style>\n",
       "<table border=\"1\" class=\"dataframe\">\n",
       "  <thead>\n",
       "    <tr style=\"text-align: right;\">\n",
       "      <th></th>\n",
       "      <th>Open</th>\n",
       "      <th>High</th>\n",
       "      <th>Low</th>\n",
       "      <th>Close</th>\n",
       "      <th>Adj Close</th>\n",
       "      <th>Volume</th>\n",
       "    </tr>\n",
       "    <tr>\n",
       "      <th>Date</th>\n",
       "      <th></th>\n",
       "      <th></th>\n",
       "      <th></th>\n",
       "      <th></th>\n",
       "      <th></th>\n",
       "      <th></th>\n",
       "    </tr>\n",
       "  </thead>\n",
       "  <tbody>\n",
       "    <tr>\n",
       "      <th>2020-07-01</th>\n",
       "      <td>4.260000</td>\n",
       "      <td>4.600000</td>\n",
       "      <td>4.260000</td>\n",
       "      <td>4.570000</td>\n",
       "      <td>4.570000</td>\n",
       "      <td>4914500</td>\n",
       "    </tr>\n",
       "    <tr>\n",
       "      <th>2020-07-02</th>\n",
       "      <td>4.690000</td>\n",
       "      <td>4.690000</td>\n",
       "      <td>4.470000</td>\n",
       "      <td>4.530000</td>\n",
       "      <td>4.530000</td>\n",
       "      <td>3908400</td>\n",
       "    </tr>\n",
       "    <tr>\n",
       "      <th>2020-07-06</th>\n",
       "      <td>4.620000</td>\n",
       "      <td>4.640000</td>\n",
       "      <td>4.130000</td>\n",
       "      <td>4.280000</td>\n",
       "      <td>4.280000</td>\n",
       "      <td>5489700</td>\n",
       "    </tr>\n",
       "    <tr>\n",
       "      <th>2020-07-07</th>\n",
       "      <td>4.180000</td>\n",
       "      <td>4.290000</td>\n",
       "      <td>4.080000</td>\n",
       "      <td>4.130000</td>\n",
       "      <td>4.130000</td>\n",
       "      <td>2667600</td>\n",
       "    </tr>\n",
       "    <tr>\n",
       "      <th>2020-07-08</th>\n",
       "      <td>4.490000</td>\n",
       "      <td>4.520000</td>\n",
       "      <td>4.200000</td>\n",
       "      <td>4.430000</td>\n",
       "      <td>4.430000</td>\n",
       "      <td>5586800</td>\n",
       "    </tr>\n",
       "    <tr>\n",
       "      <th>...</th>\n",
       "      <td>...</td>\n",
       "      <td>...</td>\n",
       "      <td>...</td>\n",
       "      <td>...</td>\n",
       "      <td>...</td>\n",
       "      <td>...</td>\n",
       "    </tr>\n",
       "    <tr>\n",
       "      <th>2021-06-18</th>\n",
       "      <td>61.259998</td>\n",
       "      <td>64.959999</td>\n",
       "      <td>56.849998</td>\n",
       "      <td>59.259998</td>\n",
       "      <td>59.259998</td>\n",
       "      <td>242896900</td>\n",
       "    </tr>\n",
       "    <tr>\n",
       "      <th>2021-06-21</th>\n",
       "      <td>61.340000</td>\n",
       "      <td>63.009998</td>\n",
       "      <td>53.430000</td>\n",
       "      <td>55.689999</td>\n",
       "      <td>55.689999</td>\n",
       "      <td>185876100</td>\n",
       "    </tr>\n",
       "    <tr>\n",
       "      <th>2021-06-22</th>\n",
       "      <td>54.099998</td>\n",
       "      <td>58.740002</td>\n",
       "      <td>51.049999</td>\n",
       "      <td>58.270000</td>\n",
       "      <td>58.270000</td>\n",
       "      <td>169494100</td>\n",
       "    </tr>\n",
       "    <tr>\n",
       "      <th>2021-06-23</th>\n",
       "      <td>57.040001</td>\n",
       "      <td>61.099998</td>\n",
       "      <td>56.799999</td>\n",
       "      <td>58.299999</td>\n",
       "      <td>58.299999</td>\n",
       "      <td>116291800</td>\n",
       "    </tr>\n",
       "    <tr>\n",
       "      <th>2021-06-24</th>\n",
       "      <td>57.980000</td>\n",
       "      <td>58.759998</td>\n",
       "      <td>55.660000</td>\n",
       "      <td>56.700001</td>\n",
       "      <td>56.700001</td>\n",
       "      <td>80351200</td>\n",
       "    </tr>\n",
       "  </tbody>\n",
       "</table>\n",
       "<p>248 rows × 6 columns</p>\n",
       "</div>"
      ],
      "text/plain": [
       "                 Open       High        Low      Close  Adj Close     Volume\n",
       "Date                                                                        \n",
       "2020-07-01   4.260000   4.600000   4.260000   4.570000   4.570000    4914500\n",
       "2020-07-02   4.690000   4.690000   4.470000   4.530000   4.530000    3908400\n",
       "2020-07-06   4.620000   4.640000   4.130000   4.280000   4.280000    5489700\n",
       "2020-07-07   4.180000   4.290000   4.080000   4.130000   4.130000    2667600\n",
       "2020-07-08   4.490000   4.520000   4.200000   4.430000   4.430000    5586800\n",
       "...               ...        ...        ...        ...        ...        ...\n",
       "2021-06-18  61.259998  64.959999  56.849998  59.259998  59.259998  242896900\n",
       "2021-06-21  61.340000  63.009998  53.430000  55.689999  55.689999  185876100\n",
       "2021-06-22  54.099998  58.740002  51.049999  58.270000  58.270000  169494100\n",
       "2021-06-23  57.040001  61.099998  56.799999  58.299999  58.299999  116291800\n",
       "2021-06-24  57.980000  58.759998  55.660000  56.700001  56.700001   80351200\n",
       "\n",
       "[248 rows x 6 columns]"
      ]
     },
     "execution_count": 97,
     "metadata": {},
     "output_type": "execute_result"
    }
   ],
   "source": [
    "#Import $AMC price data from yfinance and save it as a variable, import data back to July 2020\n",
    "\n",
    "amc = yf.download('AMC', \"2020-07-01\", \"2021-06-25\", parse_dates=True, index_col='date')\n",
    "amc"
   ]
  },
  {
   "cell_type": "code",
   "execution_count": 98,
   "id": "4b8779d9-47a4-4cac-a654-3279e8451242",
   "metadata": {},
   "outputs": [
    {
     "data": {
      "text/plain": [
       "<AxesSubplot:xlabel='Date'>"
      ]
     },
     "execution_count": 98,
     "metadata": {},
     "output_type": "execute_result"
    },
    {
     "data": {
      "image/png": "[encoded data removed]",
      "text/plain": [
       "<Figure size 432x288 with 1 Axes>"
      ]
     },
     "metadata": {
      "needs_background": "light"
     },
     "output_type": "display_data"
    }
   ],
   "source": [
    "#Plot the adjusted close of AMC\n",
    "\n",
    "amc.plot()"
   ]
  },
  {
   "cell_type": "code",
   "execution_count": 99,
   "id": "760bd965-eb01-4c92-ae0f-2542b8b233a2",
   "metadata": {},
   "outputs": [],
   "source": [
    "#Import TrendReq from pytrends to pull google trends data. If you don't have pytrends downloaded -- pip install pytrends\n",
    "\n",
    "from pytrends.request import TrendReq\n",
    "pytrends = TrendReq()"
   ]
  },
  {
   "cell_type": "code",
   "execution_count": 100,
   "id": "89d153a4-2c00-450b-a368-6237db8f33be",
   "metadata": {},
   "outputs": [
    {
     "data": {
      "text/plain": [
       "<pytrends.request.TrendReq at 0x19e14f58588>"
      ]
     },
     "execution_count": 100,
     "metadata": {},
     "output_type": "execute_result"
    }
   ],
   "source": [
    "#Import AMC interest overtime from google trends using pytrends\n",
    "\n",
    "kw_list = ['AMC']\n",
    "\n",
    "pytrends.build_payload(kw_list, timeframe='today 12-m')\n",
    "pytrends"
   ]
  },
  {
   "cell_type": "code",
   "execution_count": 101,
   "id": "7692b2fa-48c9-43f4-bae3-38ce8cab028c",
   "metadata": {},
   "outputs": [
    {
     "data": {
      "text/html": [
       "<div>\n",
       "<style scoped>\n",
       "    .dataframe tbody tr th:only-of-type {\n",
       "        vertical-align: middle;\n",
       "    }\n",
       "\n",
       "    .dataframe tbody tr th {\n",
       "        vertical-align: top;\n",
       "    }\n",
       "\n",
       "    .dataframe thead th {\n",
       "        text-align: right;\n",
       "    }\n",
       "</style>\n",
       "<table border=\"1\" class=\"dataframe\">\n",
       "  <thead>\n",
       "    <tr style=\"text-align: right;\">\n",
       "      <th></th>\n",
       "      <th>AMC</th>\n",
       "    </tr>\n",
       "    <tr>\n",
       "      <th>date</th>\n",
       "      <th></th>\n",
       "    </tr>\n",
       "  </thead>\n",
       "  <tbody>\n",
       "    <tr>\n",
       "      <th>2020-06-28</th>\n",
       "      <td>6</td>\n",
       "    </tr>\n",
       "    <tr>\n",
       "      <th>2020-07-05</th>\n",
       "      <td>5</td>\n",
       "    </tr>\n",
       "    <tr>\n",
       "      <th>2020-07-12</th>\n",
       "      <td>5</td>\n",
       "    </tr>\n",
       "    <tr>\n",
       "      <th>2020-07-19</th>\n",
       "      <td>6</td>\n",
       "    </tr>\n",
       "    <tr>\n",
       "      <th>2020-07-26</th>\n",
       "      <td>6</td>\n",
       "    </tr>\n",
       "    <tr>\n",
       "      <th>2020-08-02</th>\n",
       "      <td>6</td>\n",
       "    </tr>\n",
       "    <tr>\n",
       "      <th>2020-08-09</th>\n",
       "      <td>9</td>\n",
       "    </tr>\n",
       "    <tr>\n",
       "      <th>2020-08-16</th>\n",
       "      <td>11</td>\n",
       "    </tr>\n",
       "    <tr>\n",
       "      <th>2020-08-23</th>\n",
       "      <td>9</td>\n",
       "    </tr>\n",
       "    <tr>\n",
       "      <th>2020-08-30</th>\n",
       "      <td>9</td>\n",
       "    </tr>\n",
       "    <tr>\n",
       "      <th>2020-09-06</th>\n",
       "      <td>9</td>\n",
       "    </tr>\n",
       "    <tr>\n",
       "      <th>2020-09-13</th>\n",
       "      <td>8</td>\n",
       "    </tr>\n",
       "    <tr>\n",
       "      <th>2020-09-20</th>\n",
       "      <td>8</td>\n",
       "    </tr>\n",
       "    <tr>\n",
       "      <th>2020-09-27</th>\n",
       "      <td>9</td>\n",
       "    </tr>\n",
       "    <tr>\n",
       "      <th>2020-10-04</th>\n",
       "      <td>10</td>\n",
       "    </tr>\n",
       "    <tr>\n",
       "      <th>2020-10-11</th>\n",
       "      <td>12</td>\n",
       "    </tr>\n",
       "    <tr>\n",
       "      <th>2020-10-18</th>\n",
       "      <td>11</td>\n",
       "    </tr>\n",
       "    <tr>\n",
       "      <th>2020-10-25</th>\n",
       "      <td>9</td>\n",
       "    </tr>\n",
       "    <tr>\n",
       "      <th>2020-11-01</th>\n",
       "      <td>7</td>\n",
       "    </tr>\n",
       "    <tr>\n",
       "      <th>2020-11-08</th>\n",
       "      <td>9</td>\n",
       "    </tr>\n",
       "    <tr>\n",
       "      <th>2020-11-15</th>\n",
       "      <td>7</td>\n",
       "    </tr>\n",
       "    <tr>\n",
       "      <th>2020-11-22</th>\n",
       "      <td>8</td>\n",
       "    </tr>\n",
       "    <tr>\n",
       "      <th>2020-11-29</th>\n",
       "      <td>8</td>\n",
       "    </tr>\n",
       "    <tr>\n",
       "      <th>2020-12-06</th>\n",
       "      <td>8</td>\n",
       "    </tr>\n",
       "    <tr>\n",
       "      <th>2020-12-13</th>\n",
       "      <td>8</td>\n",
       "    </tr>\n",
       "    <tr>\n",
       "      <th>2020-12-20</th>\n",
       "      <td>10</td>\n",
       "    </tr>\n",
       "    <tr>\n",
       "      <th>2020-12-27</th>\n",
       "      <td>9</td>\n",
       "    </tr>\n",
       "    <tr>\n",
       "      <th>2021-01-03</th>\n",
       "      <td>8</td>\n",
       "    </tr>\n",
       "    <tr>\n",
       "      <th>2021-01-10</th>\n",
       "      <td>8</td>\n",
       "    </tr>\n",
       "    <tr>\n",
       "      <th>2021-01-17</th>\n",
       "      <td>10</td>\n",
       "    </tr>\n",
       "    <tr>\n",
       "      <th>2021-01-24</th>\n",
       "      <td>100</td>\n",
       "    </tr>\n",
       "    <tr>\n",
       "      <th>2021-01-31</th>\n",
       "      <td>75</td>\n",
       "    </tr>\n",
       "    <tr>\n",
       "      <th>2021-02-07</th>\n",
       "      <td>23</td>\n",
       "    </tr>\n",
       "    <tr>\n",
       "      <th>2021-02-14</th>\n",
       "      <td>15</td>\n",
       "    </tr>\n",
       "    <tr>\n",
       "      <th>2021-02-21</th>\n",
       "      <td>30</td>\n",
       "    </tr>\n",
       "    <tr>\n",
       "      <th>2021-02-28</th>\n",
       "      <td>22</td>\n",
       "    </tr>\n",
       "    <tr>\n",
       "      <th>2021-03-07</th>\n",
       "      <td>25</td>\n",
       "    </tr>\n",
       "    <tr>\n",
       "      <th>2021-03-14</th>\n",
       "      <td>28</td>\n",
       "    </tr>\n",
       "    <tr>\n",
       "      <th>2021-03-21</th>\n",
       "      <td>21</td>\n",
       "    </tr>\n",
       "    <tr>\n",
       "      <th>2021-03-28</th>\n",
       "      <td>19</td>\n",
       "    </tr>\n",
       "    <tr>\n",
       "      <th>2021-04-04</th>\n",
       "      <td>17</td>\n",
       "    </tr>\n",
       "    <tr>\n",
       "      <th>2021-04-11</th>\n",
       "      <td>16</td>\n",
       "    </tr>\n",
       "    <tr>\n",
       "      <th>2021-04-18</th>\n",
       "      <td>17</td>\n",
       "    </tr>\n",
       "    <tr>\n",
       "      <th>2021-04-25</th>\n",
       "      <td>17</td>\n",
       "    </tr>\n",
       "    <tr>\n",
       "      <th>2021-05-02</th>\n",
       "      <td>15</td>\n",
       "    </tr>\n",
       "    <tr>\n",
       "      <th>2021-05-09</th>\n",
       "      <td>21</td>\n",
       "    </tr>\n",
       "    <tr>\n",
       "      <th>2021-05-16</th>\n",
       "      <td>24</td>\n",
       "    </tr>\n",
       "    <tr>\n",
       "      <th>2021-05-23</th>\n",
       "      <td>48</td>\n",
       "    </tr>\n",
       "    <tr>\n",
       "      <th>2021-05-30</th>\n",
       "      <td>91</td>\n",
       "    </tr>\n",
       "    <tr>\n",
       "      <th>2021-06-06</th>\n",
       "      <td>59</td>\n",
       "    </tr>\n",
       "    <tr>\n",
       "      <th>2021-06-13</th>\n",
       "      <td>49</td>\n",
       "    </tr>\n",
       "    <tr>\n",
       "      <th>2021-06-20</th>\n",
       "      <td>41</td>\n",
       "    </tr>\n",
       "  </tbody>\n",
       "</table>\n",
       "</div>"
      ],
      "text/plain": [
       "            AMC\n",
       "date           \n",
       "2020-06-28    6\n",
       "2020-07-05    5\n",
       "2020-07-12    5\n",
       "2020-07-19    6\n",
       "2020-07-26    6\n",
       "2020-08-02    6\n",
       "2020-08-09    9\n",
       "2020-08-16   11\n",
       "2020-08-23    9\n",
       "2020-08-30    9\n",
       "2020-09-06    9\n",
       "2020-09-13    8\n",
       "2020-09-20    8\n",
       "2020-09-27    9\n",
       "2020-10-04   10\n",
       "2020-10-11   12\n",
       "2020-10-18   11\n",
       "2020-10-25    9\n",
       "2020-11-01    7\n",
       "2020-11-08    9\n",
       "2020-11-15    7\n",
       "2020-11-22    8\n",
       "2020-11-29    8\n",
       "2020-12-06    8\n",
       "2020-12-13    8\n",
       "2020-12-20   10\n",
       "2020-12-27    9\n",
       "2021-01-03    8\n",
       "2021-01-10    8\n",
       "2021-01-17   10\n",
       "2021-01-24  100\n",
       "2021-01-31   75\n",
       "2021-02-07   23\n",
       "2021-02-14   15\n",
       "2021-02-21   30\n",
       "2021-02-28   22\n",
       "2021-03-07   25\n",
       "2021-03-14   28\n",
       "2021-03-21   21\n",
       "2021-03-28   19\n",
       "2021-04-04   17\n",
       "2021-04-11   16\n",
       "2021-04-18   17\n",
       "2021-04-25   17\n",
       "2021-05-02   15\n",
       "2021-05-09   21\n",
       "2021-05-16   24\n",
       "2021-05-23   48\n",
       "2021-05-30   91\n",
       "2021-06-06   59\n",
       "2021-06-13   49\n",
       "2021-06-20   41"
      ]
     },
     "execution_count": 101,
     "metadata": {},
     "output_type": "execute_result"
    }
   ],
   "source": [
    "#Use the .interest_over_time() function to extract the google trends data as a dataframe. Save to a variable \n",
    "amc_gt = pytrends.interest_over_time()\n",
    "amc_gt['AMC'] = pytrends.interest_over_time()\n",
    "amc_gt.drop(columns='isPartial')"
   ]
  },
  {
   "cell_type": "code",
   "execution_count": 102,
   "id": "4b42f5fb-8c99-4317-9e7e-f474d5308903",
   "metadata": {},
   "outputs": [
    {
     "data": {
      "text/plain": [
       "<AxesSubplot:xlabel='Date'>"
      ]
     },
     "execution_count": 102,
     "metadata": {},
     "output_type": "execute_result"
    },
    {
     "data": {
      "image/png": "[encoded data removed]",
      "text/plain": [
       "<Figure size 432x288 with 1 Axes>"
      ]
     },
     "metadata": {
      "needs_background": "light"
     },
     "output_type": "display_data"
    }
   ],
   "source": [
    "data2 = pd.DataFrame()\n",
    "data2['AMC'] = amc['Adj Close']\n",
    "data2['AMC_GT']= amc_gt['AMC']\n",
    "data2.plot()"
   ]
  },
  {
   "cell_type": "code",
   "execution_count": 103,
   "id": "2b2d5de7-a683-4b55-bf36-b7c8b14d80a2",
   "metadata": {},
   "outputs": [
    {
     "data": {
      "text/plain": [
       "Text(0.5, 1.0, 'AMC Adj Close & Google Trends Interest Overtime')"
      ]
     },
     "execution_count": 103,
     "metadata": {},
     "output_type": "execute_result"
    },
    {
     "data": {
      "image/png": "[encoded data removed]",
      "text/plain": [
       "<Figure size 432x288 with 1 Axes>"
      ]
     },
     "metadata": {
      "needs_background": "light"
     },
     "output_type": "display_data"
    }
   ],
   "source": [
    "#Plot the AMC adjusted price along with the google trends interest overtime \n",
    "\n",
    "plt.plot(amc['Adj Close'], label = 'AMC Adj Close')\n",
    "plt.plot(amc_gt['AMC'], label = 'Google Trends Interest')\n",
    "plt.legend(loc='upper left')\n",
    "plt.title('AMC Adj Close & Google Trends Interest Overtime')"
   ]
  },
  {
   "cell_type": "code",
   "execution_count": 104,
   "id": "9ccd366a-96ca-4ef4-87ab-29836ab1ccf9",
   "metadata": {},
   "outputs": [],
   "source": [
    "#Import correlation functions from statsmodels library \n",
    "\n",
    "from statsmodels.graphics.tsaplots import plot_acf, plot_pacf"
   ]
  },
  {
   "cell_type": "code",
   "execution_count": 105,
   "id": "8439cfbc-d841-486d-9792-c6e5ba75346f",
   "metadata": {},
   "outputs": [
    {
     "data": {
      "image/png": "[encoded data removed]",
      "text/plain": [
       "<Figure size 432x288 with 1 Axes>"
      ]
     },
     "execution_count": 105,
     "metadata": {},
     "output_type": "execute_result"
    },
    {
     "data": {
      "image/png": "[encoded data removed]",
      "text/plain": [
       "<Figure size 432x288 with 1 Axes>"
      ]
     },
     "metadata": {
      "needs_background": "light"
     },
     "output_type": "display_data"
    }
   ],
   "source": [
    "# Plot the auto correlation of AMC Adjusted Close Prices. Autocorrelation, also known as serial correlation,\n",
    "# refers to the degree of correlation of the same variables between two successive time intervals.\n",
    "\n",
    "plot_acf(amc['Adj Close'], lags = 48)"
   ]
  },
  {
   "cell_type": "code",
   "execution_count": 106,
   "id": "8e41ec24-c15b-4e57-8393-2cf1d66f1e68",
   "metadata": {},
   "outputs": [
    {
     "data": {
      "image/png": "[encoded data removed]",
      "text/plain": [
       "<Figure size 432x288 with 1 Axes>"
      ]
     },
     "execution_count": 106,
     "metadata": {},
     "output_type": "execute_result"
    },
    {
     "data": {
      "image/png": "[encoded data removed]",
      "text/plain": [
       "<Figure size 432x288 with 1 Axes>"
      ]
     },
     "metadata": {
      "needs_background": "light"
     },
     "output_type": "display_data"
    }
   ],
   "source": [
    "#Plot the partial autocorrelation of AMC Adj Close Prices. \n",
    "\n",
    "sms.graphics.tsaplots.plot_pacf(amc['Adj Close'], lags = 24, zero = False)"
   ]
  },
  {
   "cell_type": "code",
   "execution_count": 107,
   "id": "aa48fe28-762f-4156-b44c-7882f7c0b306",
   "metadata": {},
   "outputs": [
    {
     "data": {
      "image/png": "[encoded data removed]",
      "text/plain": [
       "<Figure size 432x288 with 1 Axes>"
      ]
     },
     "execution_count": 107,
     "metadata": {},
     "output_type": "execute_result"
    },
    {
     "data": {
      "image/png": "[encoded data removed]",
      "text/plain": [
       "<Figure size 432x288 with 1 Axes>"
      ]
     },
     "metadata": {
      "needs_background": "light"
     },
     "output_type": "display_data"
    }
   ],
   "source": [
    "# Plot the auto correlation of AMC Google Trends \n",
    "\n",
    "plot_acf(amc_gt['AMC'], lags = 48)"
   ]
  },
  {
   "cell_type": "code",
   "execution_count": 108,
   "id": "bf7bf12a-5e06-404e-b9fd-739f2390914e",
   "metadata": {},
   "outputs": [
    {
     "data": {
      "image/png": "[encoded data removed]",
      "text/plain": [
       "<Figure size 432x288 with 1 Axes>"
      ]
     },
     "execution_count": 108,
     "metadata": {},
     "output_type": "execute_result"
    },
    {
     "data": {
      "image/png": "[encoded data removed]",
      "text/plain": [
       "<Figure size 432x288 with 1 Axes>"
      ]
     },
     "metadata": {
      "needs_background": "light"
     },
     "output_type": "display_data"
    }
   ],
   "source": [
    "#Plot the partial autocorrelation of google trends interest \n",
    "\n",
    "sms.graphics.tsaplots.plot_pacf(amc_gt['AMC'], lags = 24, zero = False)"
   ]
  },
  {
   "cell_type": "code",
   "execution_count": 109,
   "id": "2d065637-0a98-431b-bad7-1635e3d8302d",
   "metadata": {},
   "outputs": [
    {
     "data": {
      "text/plain": [
       "<AxesSubplot:xlabel='Date'>"
      ]
     },
     "execution_count": 109,
     "metadata": {},
     "output_type": "execute_result"
    },
    {
     "data": {
      "image/png": "[encoded data removed]",
      "text/plain": [
       "<Figure size 432x288 with 1 Axes>"
      ]
     },
     "metadata": {
      "needs_background": "light"
     },
     "output_type": "display_data"
    }
   ],
   "source": [
    "#Plot a rolling 7-dat standard deviation of TSLA's closing prices \n",
    "\n",
    "amc['Adj Close'].rolling(window=7).std().plot()"
   ]
  },
  {
   "cell_type": "code",
   "execution_count": 110,
   "id": "29169f38-d30f-4fd3-8c13-f117b48717d1",
   "metadata": {},
   "outputs": [
    {
     "data": {
      "text/plain": [
       "<AxesSubplot:xlabel='Date'>"
      ]
     },
     "execution_count": 110,
     "metadata": {},
     "output_type": "execute_result"
    },
    {
     "data": {
      "image/png": "[encoded data removed]",
      "text/plain": [
       "<Figure size 432x288 with 1 Axes>"
      ]
     },
     "metadata": {
      "needs_background": "light"
     },
     "output_type": "display_data"
    }
   ],
   "source": [
    "#Plot a rolling 30-day mean of AMC's adjusted close price \n",
    "\n",
    "amc['Adj Close'].rolling(window=30).mean().plot()"
   ]
  },
  {
   "cell_type": "code",
   "execution_count": 116,
   "id": "fb603dfb-c0d6-49a3-a833-dce667f6f34d",
   "metadata": {},
   "outputs": [
    {
     "name": "stderr",
     "output_type": "stream",
     "text": [
      "C:\\Users\\Luke\\anaconda3\\envs\\pyvizenv\\lib\\site-packages\\statsmodels\\tsa\\arima_model.py:472: FutureWarning: \n",
      "statsmodels.tsa.arima_model.ARMA and statsmodels.tsa.arima_model.ARIMA have\n",
      "been deprecated in favor of statsmodels.tsa.arima.model.ARIMA (note the .\n",
      "between arima and model) and\n",
      "statsmodels.tsa.SARIMAX. These will be removed after the 0.12 release.\n",
      "\n",
      "statsmodels.tsa.arima.model.ARIMA makes use of the statespace framework and\n",
      "is both well tested and maintained.\n",
      "\n",
      "To silence this warning and continue using ARMA and ARIMA until they are\n",
      "removed, use:\n",
      "\n",
      "import warnings\n",
      "warnings.filterwarnings('ignore', 'statsmodels.tsa.arima_model.ARMA',\n",
      "                        FutureWarning)\n",
      "warnings.filterwarnings('ignore', 'statsmodels.tsa.arima_model.ARIMA',\n",
      "                        FutureWarning)\n",
      "\n",
      "  warnings.warn(ARIMA_DEPRECATION_WARN, FutureWarning)\n",
      "C:\\Users\\Luke\\anaconda3\\envs\\pyvizenv\\lib\\site-packages\\statsmodels\\tsa\\base\\tsa_model.py:583: ValueWarning: A date index has been provided, but it has no associated frequency information and so will be ignored when e.g. forecasting.\n",
      "  ' ignored when e.g. forecasting.', ValueWarning)\n",
      "C:\\Users\\Luke\\anaconda3\\envs\\pyvizenv\\lib\\site-packages\\statsmodels\\tsa\\base\\tsa_model.py:583: ValueWarning: A date index has been provided, but it has no associated frequency information and so will be ignored when e.g. forecasting.\n",
      "  ' ignored when e.g. forecasting.', ValueWarning)\n",
      "C:\\Users\\Luke\\anaconda3\\envs\\pyvizenv\\lib\\site-packages\\statsmodels\\tsa\\arima_model.py:472: FutureWarning: \n",
      "statsmodels.tsa.arima_model.ARMA and statsmodels.tsa.arima_model.ARIMA have\n",
      "been deprecated in favor of statsmodels.tsa.arima.model.ARIMA (note the .\n",
      "between arima and model) and\n",
      "statsmodels.tsa.SARIMAX. These will be removed after the 0.12 release.\n",
      "\n",
      "statsmodels.tsa.arima.model.ARIMA makes use of the statespace framework and\n",
      "is both well tested and maintained.\n",
      "\n",
      "To silence this warning and continue using ARMA and ARIMA until they are\n",
      "removed, use:\n",
      "\n",
      "import warnings\n",
      "warnings.filterwarnings('ignore', 'statsmodels.tsa.arima_model.ARMA',\n",
      "                        FutureWarning)\n",
      "warnings.filterwarnings('ignore', 'statsmodels.tsa.arima_model.ARIMA',\n",
      "                        FutureWarning)\n",
      "\n",
      "  warnings.warn(ARIMA_DEPRECATION_WARN, FutureWarning)\n"
     ]
    },
    {
     "data": {
      "text/html": [
       "<table class=\"simpletable\">\n",
       "<caption>ARIMA Model Results</caption>\n",
       "<tr>\n",
       "  <th>Dep. Variable:</th>      <td>D.Close</td>     <th>  No. Observations:  </th>    <td>247</td>  \n",
       "</tr>\n",
       "<tr>\n",
       "  <th>Model:</th>          <td>ARIMA(2, 1, 2)</td>  <th>  Log Likelihood     </th> <td>-583.639</td>\n",
       "</tr>\n",
       "<tr>\n",
       "  <th>Method:</th>             <td>css-mle</td>     <th>  S.D. of innovations</th>   <td>2.565</td> \n",
       "</tr>\n",
       "<tr>\n",
       "  <th>Date:</th>          <td>Sat, 26 Jun 2021</td> <th>  AIC                </th> <td>1179.279</td>\n",
       "</tr>\n",
       "<tr>\n",
       "  <th>Time:</th>              <td>16:55:36</td>     <th>  BIC                </th> <td>1200.335</td>\n",
       "</tr>\n",
       "<tr>\n",
       "  <th>Sample:</th>                <td>1</td>        <th>  HQIC               </th> <td>1187.756</td>\n",
       "</tr>\n",
       "<tr>\n",
       "  <th></th>                       <td> </td>        <th>                     </th>     <td> </td>   \n",
       "</tr>\n",
       "</table>\n",
       "<table class=\"simpletable\">\n",
       "<tr>\n",
       "        <td></td>           <th>coef</th>     <th>std err</th>      <th>z</th>      <th>P>|z|</th>  <th>[0.025</th>    <th>0.975]</th>  \n",
       "</tr>\n",
       "<tr>\n",
       "  <th>const</th>         <td>    0.2159</td> <td>    0.149</td> <td>    1.446</td> <td> 0.148</td> <td>   -0.077</td> <td>    0.509</td>\n",
       "</tr>\n",
       "<tr>\n",
       "  <th>ar.L1.D.Close</th> <td>    0.4554</td> <td>    0.102</td> <td>    4.468</td> <td> 0.000</td> <td>    0.256</td> <td>    0.655</td>\n",
       "</tr>\n",
       "<tr>\n",
       "  <th>ar.L2.D.Close</th> <td>   -0.6605</td> <td>    0.072</td> <td>   -9.120</td> <td> 0.000</td> <td>   -0.802</td> <td>   -0.519</td>\n",
       "</tr>\n",
       "<tr>\n",
       "  <th>ma.L1.D.Close</th> <td>   -0.7566</td> <td>    0.080</td> <td>   -9.511</td> <td> 0.000</td> <td>   -0.913</td> <td>   -0.601</td>\n",
       "</tr>\n",
       "<tr>\n",
       "  <th>ma.L2.D.Close</th> <td>    0.8597</td> <td>    0.053</td> <td>   16.252</td> <td> 0.000</td> <td>    0.756</td> <td>    0.963</td>\n",
       "</tr>\n",
       "</table>\n",
       "<table class=\"simpletable\">\n",
       "<caption>Roots</caption>\n",
       "<tr>\n",
       "    <td></td>   <th>            Real</th>  <th>         Imaginary</th> <th>         Modulus</th>  <th>        Frequency</th>\n",
       "</tr>\n",
       "<tr>\n",
       "  <th>AR.1</th> <td>           0.3447</td> <td>          -1.1812j</td> <td>           1.2304</td> <td>          -0.2048</td>\n",
       "</tr>\n",
       "<tr>\n",
       "  <th>AR.2</th> <td>           0.3447</td> <td>          +1.1812j</td> <td>           1.2304</td> <td>           0.2048</td>\n",
       "</tr>\n",
       "<tr>\n",
       "  <th>MA.1</th> <td>           0.4401</td> <td>          -0.9847j</td> <td>           1.0785</td> <td>          -0.1831</td>\n",
       "</tr>\n",
       "<tr>\n",
       "  <th>MA.2</th> <td>           0.4401</td> <td>          +0.9847j</td> <td>           1.0785</td> <td>           0.1831</td>\n",
       "</tr>\n",
       "</table>"
      ],
      "text/plain": [
       "<class 'statsmodels.iolib.summary.Summary'>\n",
       "\"\"\"\n",
       "                             ARIMA Model Results                              \n",
       "==============================================================================\n",
       "Dep. Variable:                D.Close   No. Observations:                  247\n",
       "Model:                 ARIMA(2, 1, 2)   Log Likelihood                -583.639\n",
       "Method:                       css-mle   S.D. of innovations              2.565\n",
       "Date:                Sat, 26 Jun 2021   AIC                           1179.279\n",
       "Time:                        16:55:36   BIC                           1200.335\n",
       "Sample:                             1   HQIC                          1187.756\n",
       "                                                                              \n",
       "=================================================================================\n",
       "                    coef    std err          z      P>|z|      [0.025      0.975]\n",
       "---------------------------------------------------------------------------------\n",
       "const             0.2159      0.149      1.446      0.148      -0.077       0.509\n",
       "ar.L1.D.Close     0.4554      0.102      4.468      0.000       0.256       0.655\n",
       "ar.L2.D.Close    -0.6605      0.072     -9.120      0.000      -0.802      -0.519\n",
       "ma.L1.D.Close    -0.7566      0.080     -9.511      0.000      -0.913      -0.601\n",
       "ma.L2.D.Close     0.8597      0.053     16.252      0.000       0.756       0.963\n",
       "                                    Roots                                    \n",
       "=============================================================================\n",
       "                  Real          Imaginary           Modulus         Frequency\n",
       "-----------------------------------------------------------------------------\n",
       "AR.1            0.3447           -1.1812j            1.2304           -0.2048\n",
       "AR.2            0.3447           +1.1812j            1.2304            0.2048\n",
       "MA.1            0.4401           -0.9847j            1.0785           -0.1831\n",
       "MA.2            0.4401           +0.9847j            1.0785            0.1831\n",
       "-----------------------------------------------------------------------------\n",
       "\"\"\""
      ]
     },
     "execution_count": 116,
     "metadata": {},
     "output_type": "execute_result"
    }
   ],
   "source": [
    "# Import statsmodel library to run ARIMA preditions. ARIMA uses the auto correlation and moving averages to look for correlated datapoints within a dataframe. ARIMA makes the data stationary so you \n",
    "# will not have to convert it from non stationary.\n",
    "\n",
    "from statsmodels.tsa.arima_model import ARIMA\n",
    "\n",
    "model = ARIMA(amc['Close'], order = (2,1,2))\n",
    "results = model.fit()\n",
    "results.summary()"
   ]
  },
  {
   "cell_type": "code",
   "execution_count": 117,
   "id": "2a4eb79e-7875-48a4-aadb-ead429d3a152",
   "metadata": {},
   "outputs": [
    {
     "data": {
      "text/plain": [
       "<AxesSubplot:title={'center':'AMC returns forecast'}>"
      ]
     },
     "execution_count": 117,
     "metadata": {},
     "output_type": "execute_result"
    },
    {
     "data": {
      "image/png": "[encoded data removed]",
      "text/plain": [
       "<Figure size 432x288 with 1 Axes>"
      ]
     },
     "metadata": {
      "needs_background": "light"
     },
     "output_type": "display_data"
    }
   ],
   "source": [
    "# Plot a forecast of the AMC adj closed on the next 10 days based on the past prices of AMC\n",
    "\n",
    "pd.DataFrame(results.forecast(steps = 10)[0]).plot(title = 'AMC returns forecast')"
   ]
  },
  {
   "cell_type": "code",
   "execution_count": 118,
   "id": "923fce59-a4e0-4bed-ba19-2c9865af1131",
   "metadata": {},
   "outputs": [],
   "source": [
    "# Run an analysis on the volume of AMC"
   ]
  },
  {
   "cell_type": "code",
   "execution_count": 119,
   "id": "9bc4939f-085d-4cf9-9674-f1c43be78fec",
   "metadata": {},
   "outputs": [
    {
     "name": "stdout",
     "output_type": "stream",
     "text": [
      "[*********************100%***********************]  1 of 1 completed\n"
     ]
    }
   ],
   "source": [
    "amc_vol = pd.DataFrame(yf.download('AMC', \"2020-07-01\", \"2021-06-25\", parse_dates=True, index_col='date'))"
   ]
  },
  {
   "cell_type": "code",
   "execution_count": 121,
   "id": "18165010-8c0f-431f-a5fe-a1b6febf1375",
   "metadata": {},
   "outputs": [
    {
     "data": {
      "text/plain": [
       "<AxesSubplot:title={'center':'% Change of AMC'}, xlabel='Date'>"
      ]
     },
     "execution_count": 121,
     "metadata": {},
     "output_type": "execute_result"
    },
    {
     "data": {
      "image/png": "[encoded data removed]",
      "text/plain": [
       "<Figure size 432x288 with 1 Axes>"
      ]
     },
     "metadata": {
      "needs_background": "light"
     },
     "output_type": "display_data"
    }
   ],
   "source": [
    "#Plot the percentage change of AMC overtime\n",
    "\n",
    "amc_vol['Close'].pct_change().plot(title = '% Change of AMC')"
   ]
  },
  {
   "cell_type": "code",
   "execution_count": 122,
   "id": "ae24790d-dee9-41a8-bce5-cadfbb071e71",
   "metadata": {},
   "outputs": [
    {
     "data": {
      "text/plain": [
       "Date\n",
       "2020-07-02   -0.875273\n",
       "2020-07-06   -5.518764\n",
       "2020-07-07   -3.504675\n",
       "2020-07-08    7.263915\n",
       "2020-07-09    3.160279\n",
       "                ...   \n",
       "2021-06-18   -2.420552\n",
       "2021-06-21   -6.024299\n",
       "2021-06-22    4.632792\n",
       "2021-06-23    0.051482\n",
       "2021-06-24   -2.744423\n",
       "Name: Close, Length: 247, dtype: float64"
      ]
     },
     "execution_count": 122,
     "metadata": {},
     "output_type": "execute_result"
    }
   ],
   "source": [
    "# Structure data for GARCH model\n",
    "\n",
    "returns = amc_vol.loc['2020':'2021'].Close.pct_change()*100\n",
    "returns = returns.dropna()\n",
    "returns"
   ]
  },
  {
   "cell_type": "code",
   "execution_count": 123,
   "id": "0f4e6bb3-1284-4127-b6be-c4b5d26d7b46",
   "metadata": {},
   "outputs": [],
   "source": [
    "# Use the GARCH model from statsmodels to give prediction on the volume for the next 10 trading days. The p and q paramaters are the lag time for the Auto Regression and Moving Average  \n",
    "\n",
    "from arch import arch_model \n",
    "model = arch_model(returns, mean = 'Zero', vol='GARCH', p=1, q=1)"
   ]
  },
  {
   "cell_type": "code",
   "execution_count": 124,
   "id": "96b036b8-d855-4dad-8ff6-504c5d49afa7",
   "metadata": {},
   "outputs": [
    {
     "name": "stdout",
     "output_type": "stream",
     "text": [
      "Iteration:      1,   Func. Count:      5,   Neg. LLF: 1161.5747023439235\n",
      "Iteration:      2,   Func. Count:     10,   Neg. LLF: 1055.292230691428\n",
      "Iteration:      3,   Func. Count:     14,   Neg. LLF: 1162.067906715684\n",
      "Iteration:      4,   Func. Count:     19,   Neg. LLF: 1055.0040917493461\n",
      "Iteration:      5,   Func. Count:     23,   Neg. LLF: 1054.9951246332041\n",
      "Iteration:      6,   Func. Count:     27,   Neg. LLF: 1054.945645996637\n",
      "Iteration:      7,   Func. Count:     31,   Neg. LLF: 1054.7339423599487\n",
      "Iteration:      8,   Func. Count:     35,   Neg. LLF: 1054.5439332784322\n",
      "Iteration:      9,   Func. Count:     39,   Neg. LLF: 1054.4885657770221\n",
      "Iteration:     10,   Func. Count:     43,   Neg. LLF: 1054.4845683181902\n",
      "Iteration:     11,   Func. Count:     47,   Neg. LLF: 1054.484514090023\n",
      "Iteration:     12,   Func. Count:     50,   Neg. LLF: 1054.4845119263807\n",
      "Optimization terminated successfully    (Exit mode 0)\n",
      "            Current function value: 1054.484514090023\n",
      "            Iterations: 12\n",
      "            Function evaluations: 50\n",
      "            Gradient evaluations: 12\n"
     ]
    }
   ],
   "source": [
    "results = model.fit()"
   ]
  },
  {
   "cell_type": "code",
   "execution_count": 125,
   "id": "73e4375d-8b1e-4f7e-bd7c-91fb57d081bb",
   "metadata": {},
   "outputs": [
    {
     "data": {
      "text/html": [
       "<table class=\"simpletable\">\n",
       "<caption>Zero Mean - GARCH Model Results</caption>\n",
       "<tr>\n",
       "  <th>Dep. Variable:</th>        <td>Close</td>       <th>  R-squared:         </th>  <td>   0.000</td> \n",
       "</tr>\n",
       "<tr>\n",
       "  <th>Mean Model:</th>         <td>Zero Mean</td>     <th>  Adj. R-squared:    </th>  <td>   0.004</td> \n",
       "</tr>\n",
       "<tr>\n",
       "  <th>Vol Model:</th>            <td>GARCH</td>       <th>  Log-Likelihood:    </th> <td>  -1054.48</td>\n",
       "</tr>\n",
       "<tr>\n",
       "  <th>Distribution:</th>        <td>Normal</td>       <th>  AIC:               </th> <td>   2114.97</td>\n",
       "</tr>\n",
       "<tr>\n",
       "  <th>Method:</th>        <td>Maximum Likelihood</td> <th>  BIC:               </th> <td>   2125.50</td>\n",
       "</tr>\n",
       "<tr>\n",
       "  <th></th>                        <td></td>          <th>  No. Observations:  </th>     <td>247</td>   \n",
       "</tr>\n",
       "<tr>\n",
       "  <th>Date:</th>           <td>Sat, Jun 26 2021</td>  <th>  Df Residuals:      </th>     <td>247</td>   \n",
       "</tr>\n",
       "<tr>\n",
       "  <th>Time:</th>               <td>16:55:51</td>      <th>  Df Model:          </th>      <td>0</td>    \n",
       "</tr>\n",
       "</table>\n",
       "<table class=\"simpletable\">\n",
       "<caption>Volatility Model</caption>\n",
       "<tr>\n",
       "      <td></td>        <th>coef</th>     <th>std err</th>      <th>t</th>       <th>P>|t|</th>      <th>95.0% Conf. Int.</th>   \n",
       "</tr>\n",
       "<tr>\n",
       "  <th>omega</th>    <td>   41.6001</td> <td>  101.582</td> <td>    0.410</td> <td>    0.682</td> <td>[-1.575e+02,2.407e+02]</td>\n",
       "</tr>\n",
       "<tr>\n",
       "  <th>alpha[1]</th> <td>    0.5348</td> <td>    0.262</td> <td>    2.040</td> <td>4.136e-02</td>   <td>[2.096e-02,  1.049]</td> \n",
       "</tr>\n",
       "<tr>\n",
       "  <th>beta[1]</th>  <td>    0.4652</td> <td>    0.450</td> <td>    1.034</td> <td>    0.301</td>    <td>[ -0.416,  1.347]</td>  \n",
       "</tr>\n",
       "</table><br/><br/>Covariance estimator: robust"
      ],
      "text/plain": [
       "<class 'statsmodels.iolib.summary.Summary'>\n",
       "\"\"\"\n",
       "                       Zero Mean - GARCH Model Results                        \n",
       "==============================================================================\n",
       "Dep. Variable:                  Close   R-squared:                       0.000\n",
       "Mean Model:                 Zero Mean   Adj. R-squared:                  0.004\n",
       "Vol Model:                      GARCH   Log-Likelihood:               -1054.48\n",
       "Distribution:                  Normal   AIC:                           2114.97\n",
       "Method:            Maximum Likelihood   BIC:                           2125.50\n",
       "                                        No. Observations:                  247\n",
       "Date:                Sat, Jun 26 2021   Df Residuals:                      247\n",
       "Time:                        16:55:51   Df Model:                            0\n",
       "                               Volatility Model                              \n",
       "=============================================================================\n",
       "                 coef    std err          t      P>|t|       95.0% Conf. Int.\n",
       "-----------------------------------------------------------------------------\n",
       "omega         41.6001    101.582      0.410      0.682 [-1.575e+02,2.407e+02]\n",
       "alpha[1]       0.5348      0.262      2.040  4.136e-02    [2.096e-02,  1.049]\n",
       "beta[1]        0.4652      0.450      1.034      0.301      [ -0.416,  1.347]\n",
       "=============================================================================\n",
       "\n",
       "Covariance estimator: robust\n",
       "\"\"\""
      ]
     },
     "execution_count": 125,
     "metadata": {},
     "output_type": "execute_result"
    }
   ],
   "source": [
    "results.summary()"
   ]
  },
  {
   "cell_type": "code",
   "execution_count": 126,
   "id": "1b1a9bbc-b410-46b4-80b2-e2d6ae618419",
   "metadata": {},
   "outputs": [
    {
     "data": {
      "image/png": "[encoded data removed]",
      "text/plain": [
       "<Figure size 432x288 with 2 Axes>"
      ]
     },
     "metadata": {
      "needs_background": "light"
     },
     "output_type": "display_data"
    }
   ],
   "source": [
    "# Use the GARCH model to plot the Standardized Residuals and Annualized Conditional Volatility \n",
    "\n",
    "fig = results.plot(annualize = 'D')"
   ]
  },
  {
   "cell_type": "code",
   "execution_count": 127,
   "id": "2db41d71-f6f8-4a26-8a2f-b46470846d24",
   "metadata": {},
   "outputs": [
    {
     "data": {
      "text/plain": [
       "'2021-06-24'"
      ]
     },
     "execution_count": 127,
     "metadata": {},
     "output_type": "execute_result"
    }
   ],
   "source": [
    "#Find the last day in the dataset\n",
    "\n",
    "last_day = amc_vol.index.max().strftime('%Y-%m-%d')\n",
    "last_day"
   ]
  },
  {
   "cell_type": "code",
   "execution_count": 128,
   "id": "6954e5bc-e875-4591-a28a-96bac05b8585",
   "metadata": {},
   "outputs": [
    {
     "name": "stderr",
     "output_type": "stream",
     "text": [
      "C:\\Users\\Luke\\anaconda3\\envs\\pyvizenv\\lib\\site-packages\\arch\\__future__\\_utility.py:21: FutureWarning: \n",
      "The default for reindex is True. After September 2021 this will change to\n",
      "False. Set reindex to True or False to silence this message. Alternatively,\n",
      "you can use the import comment\n",
      "\n",
      "from arch.__future__ import reindexing\n",
      "\n",
      "to globally set reindex to True and silence this warning.\n",
      "\n",
      "  FutureWarning,\n"
     ]
    }
   ],
   "source": [
    "# Make a forecast of the future volatility of AMC over the next 10 days using the GARCH model \n",
    "\n",
    "forecast_horizon = 10 \n",
    "\n",
    "forecasts = results.forecast(start = \"2021-06-24\", horizon = forecast_horizon)"
   ]
  },
  {
   "cell_type": "code",
   "execution_count": 129,
   "id": "c376135f-73bf-4864-9d27-2495b2673d10",
   "metadata": {},
   "outputs": [
    {
     "data": {
      "text/html": [
       "<div>\n",
       "<style scoped>\n",
       "    .dataframe tbody tr th:only-of-type {\n",
       "        vertical-align: middle;\n",
       "    }\n",
       "\n",
       "    .dataframe tbody tr th {\n",
       "        vertical-align: top;\n",
       "    }\n",
       "\n",
       "    .dataframe thead th {\n",
       "        text-align: right;\n",
       "    }\n",
       "</style>\n",
       "<table border=\"1\" class=\"dataframe\">\n",
       "  <thead>\n",
       "    <tr style=\"text-align: right;\">\n",
       "      <th></th>\n",
       "      <th>h.01</th>\n",
       "      <th>h.02</th>\n",
       "      <th>h.03</th>\n",
       "      <th>h.04</th>\n",
       "      <th>h.05</th>\n",
       "      <th>h.06</th>\n",
       "      <th>h.07</th>\n",
       "      <th>h.08</th>\n",
       "      <th>h.09</th>\n",
       "      <th>h.10</th>\n",
       "    </tr>\n",
       "    <tr>\n",
       "      <th>Date</th>\n",
       "      <th></th>\n",
       "      <th></th>\n",
       "      <th></th>\n",
       "      <th></th>\n",
       "      <th></th>\n",
       "      <th></th>\n",
       "      <th></th>\n",
       "      <th></th>\n",
       "      <th></th>\n",
       "      <th></th>\n",
       "    </tr>\n",
       "  </thead>\n",
       "  <tbody>\n",
       "    <tr>\n",
       "      <th>2021-06-24</th>\n",
       "      <td>149.195613</td>\n",
       "      <td>180.949077</td>\n",
       "      <td>207.908166</td>\n",
       "      <td>231.752115</td>\n",
       "      <td>253.361955</td>\n",
       "      <td>273.268216</td>\n",
       "      <td>291.81973</td>\n",
       "      <td>309.260396</td>\n",
       "      <td>325.768675</td>\n",
       "      <td>341.47982</td>\n",
       "    </tr>\n",
       "  </tbody>\n",
       "</table>\n",
       "</div>"
      ],
      "text/plain": [
       "                  h.01        h.02        h.03        h.04        h.05  \\\n",
       "Date                                                                     \n",
       "2021-06-24  149.195613  180.949077  207.908166  231.752115  253.361955   \n",
       "\n",
       "                  h.06       h.07        h.08        h.09       h.10  \n",
       "Date                                                                  \n",
       "2021-06-24  273.268216  291.81973  309.260396  325.768675  341.47982  "
      ]
     },
     "execution_count": 129,
     "metadata": {},
     "output_type": "execute_result"
    }
   ],
   "source": [
    "# Annualize the forecast \n",
    "\n",
    "inter = np.sqrt(forecasts.variance.dropna() * 252)\n",
    "inter"
   ]
  },
  {
   "cell_type": "code",
   "execution_count": 130,
   "id": "47ace356-3bcc-4fab-939c-ffa40034af9a",
   "metadata": {},
   "outputs": [
    {
     "data": {
      "text/html": [
       "<div>\n",
       "<style scoped>\n",
       "    .dataframe tbody tr th:only-of-type {\n",
       "        vertical-align: middle;\n",
       "    }\n",
       "\n",
       "    .dataframe tbody tr th {\n",
       "        vertical-align: top;\n",
       "    }\n",
       "\n",
       "    .dataframe thead th {\n",
       "        text-align: right;\n",
       "    }\n",
       "</style>\n",
       "<table border=\"1\" class=\"dataframe\">\n",
       "  <thead>\n",
       "    <tr style=\"text-align: right;\">\n",
       "      <th>Date</th>\n",
       "      <th>2021-06-24</th>\n",
       "    </tr>\n",
       "  </thead>\n",
       "  <tbody>\n",
       "    <tr>\n",
       "      <th>h.01</th>\n",
       "      <td>149.195613</td>\n",
       "    </tr>\n",
       "    <tr>\n",
       "      <th>h.02</th>\n",
       "      <td>180.949077</td>\n",
       "    </tr>\n",
       "    <tr>\n",
       "      <th>h.03</th>\n",
       "      <td>207.908166</td>\n",
       "    </tr>\n",
       "    <tr>\n",
       "      <th>h.04</th>\n",
       "      <td>231.752115</td>\n",
       "    </tr>\n",
       "    <tr>\n",
       "      <th>h.05</th>\n",
       "      <td>253.361955</td>\n",
       "    </tr>\n",
       "  </tbody>\n",
       "</table>\n",
       "</div>"
      ],
      "text/plain": [
       "Date  2021-06-24\n",
       "h.01  149.195613\n",
       "h.02  180.949077\n",
       "h.03  207.908166\n",
       "h.04  231.752115\n",
       "h.05  253.361955"
      ]
     },
     "execution_count": 130,
     "metadata": {},
     "output_type": "execute_result"
    }
   ],
   "source": [
    "# Transpose the forecast so that it is easier to plot\n",
    "final = inter.dropna().T\n",
    "final.head()"
   ]
  },
  {
   "cell_type": "code",
   "execution_count": 131,
   "id": "f06798f5-50fd-4325-ada7-abb6cf571bf8",
   "metadata": {},
   "outputs": [
    {
     "data": {
      "text/plain": [
       "<AxesSubplot:title={'center':'GARCH Volume Forecast over the next 10 Trading Days'}>"
      ]
     },
     "execution_count": 131,
     "metadata": {},
     "output_type": "execute_result"
    },
    {
     "data": {
      "image/png": "[encoded data removed]",
      "text/plain": [
       "<Figure size 432x288 with 1 Axes>"
      ]
     },
     "metadata": {
      "needs_background": "light"
     },
     "output_type": "display_data"
    }
   ],
   "source": [
    "final.plot(title = 'GARCH Volume Forecast over the next 10 Trading Days')"
   ]
  },
  {
   "cell_type": "code",
   "execution_count": null,
   "id": "588ff812-889f-4d12-8894-a2096b27ab9d",
   "metadata": {},
   "outputs": [],
   "source": []
  }
 ],
 "metadata": {
  "kernelspec": {
   "display_name": "Python 3",
   "language": "python",
   "name": "python3"
  },
  "language_info": {
   "codemirror_mode": {
    "name": "ipython",
    "version": 3
   },
   "file_extension": ".py",
   "mimetype": "text/x-python",
   "name": "python",
   "nbconvert_exporter": "python",
   "pygments_lexer": "ipython3",
   "version": "3.7.10"
  }
 },
 "nbformat": 4,
 "nbformat_minor": 5
}
