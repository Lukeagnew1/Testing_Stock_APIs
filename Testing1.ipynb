{
 "cells": [
  {
   "cell_type": "code",
   "execution_count": 107,
   "id": "0bf9eaeb-b065-43c3-8da5-2e62dc3e5dc6",
   "metadata": {},
   "outputs": [],
   "source": [
    "#Import Libraries\n",
    "\n",
    "import pandas as pd\n",
    "import numpy as np\n",
    "import matplotlib.pyplot as plt \n",
    "import yfinance as yf \n",
    "import statsmodels.api as sm\n",
    "import statsmodels as sms\n",
    "\n",
    "%matplotlib inline"
   ]
  },
  {
   "cell_type": "code",
   "execution_count": 108,
   "id": "06133bd4-a794-4e09-a5ba-1261c1b792d6",
   "metadata": {},
   "outputs": [
    {
     "name": "stdout",
     "output_type": "stream",
     "text": [
      "[*********************100%***********************]  1 of 1 completed\n"
     ]
    },
    {
     "data": {
      "text/html": [
       "<div>\n",
       "<style scoped>\n",
       "    .dataframe tbody tr th:only-of-type {\n",
       "        vertical-align: middle;\n",
       "    }\n",
       "\n",
       "    .dataframe tbody tr th {\n",
       "        vertical-align: top;\n",
       "    }\n",
       "\n",
       "    .dataframe thead th {\n",
       "        text-align: right;\n",
       "    }\n",
       "</style>\n",
       "<table border=\"1\" class=\"dataframe\">\n",
       "  <thead>\n",
       "    <tr style=\"text-align: right;\">\n",
       "      <th></th>\n",
       "      <th>Open</th>\n",
       "      <th>High</th>\n",
       "      <th>Low</th>\n",
       "      <th>Close</th>\n",
       "      <th>Adj Close</th>\n",
       "      <th>Volume</th>\n",
       "    </tr>\n",
       "    <tr>\n",
       "      <th>Date</th>\n",
       "      <th></th>\n",
       "      <th></th>\n",
       "      <th></th>\n",
       "      <th></th>\n",
       "      <th></th>\n",
       "      <th></th>\n",
       "    </tr>\n",
       "  </thead>\n",
       "  <tbody>\n",
       "    <tr>\n",
       "      <th>2020-07-01</th>\n",
       "      <td>4.260000</td>\n",
       "      <td>4.600000</td>\n",
       "      <td>4.260000</td>\n",
       "      <td>4.570000</td>\n",
       "      <td>4.570000</td>\n",
       "      <td>4914500</td>\n",
       "    </tr>\n",
       "    <tr>\n",
       "      <th>2020-07-02</th>\n",
       "      <td>4.690000</td>\n",
       "      <td>4.690000</td>\n",
       "      <td>4.470000</td>\n",
       "      <td>4.530000</td>\n",
       "      <td>4.530000</td>\n",
       "      <td>3908400</td>\n",
       "    </tr>\n",
       "    <tr>\n",
       "      <th>2020-07-06</th>\n",
       "      <td>4.620000</td>\n",
       "      <td>4.640000</td>\n",
       "      <td>4.130000</td>\n",
       "      <td>4.280000</td>\n",
       "      <td>4.280000</td>\n",
       "      <td>5489700</td>\n",
       "    </tr>\n",
       "    <tr>\n",
       "      <th>2020-07-07</th>\n",
       "      <td>4.180000</td>\n",
       "      <td>4.290000</td>\n",
       "      <td>4.080000</td>\n",
       "      <td>4.130000</td>\n",
       "      <td>4.130000</td>\n",
       "      <td>2667600</td>\n",
       "    </tr>\n",
       "    <tr>\n",
       "      <th>2020-07-08</th>\n",
       "      <td>4.490000</td>\n",
       "      <td>4.520000</td>\n",
       "      <td>4.200000</td>\n",
       "      <td>4.430000</td>\n",
       "      <td>4.430000</td>\n",
       "      <td>5586800</td>\n",
       "    </tr>\n",
       "    <tr>\n",
       "      <th>...</th>\n",
       "      <td>...</td>\n",
       "      <td>...</td>\n",
       "      <td>...</td>\n",
       "      <td>...</td>\n",
       "      <td>...</td>\n",
       "      <td>...</td>\n",
       "    </tr>\n",
       "    <tr>\n",
       "      <th>2021-06-18</th>\n",
       "      <td>61.259998</td>\n",
       "      <td>64.959999</td>\n",
       "      <td>56.849998</td>\n",
       "      <td>59.259998</td>\n",
       "      <td>59.259998</td>\n",
       "      <td>242896900</td>\n",
       "    </tr>\n",
       "    <tr>\n",
       "      <th>2021-06-21</th>\n",
       "      <td>61.340000</td>\n",
       "      <td>63.009998</td>\n",
       "      <td>53.430000</td>\n",
       "      <td>55.689999</td>\n",
       "      <td>55.689999</td>\n",
       "      <td>185876100</td>\n",
       "    </tr>\n",
       "    <tr>\n",
       "      <th>2021-06-22</th>\n",
       "      <td>54.099998</td>\n",
       "      <td>58.740002</td>\n",
       "      <td>51.049999</td>\n",
       "      <td>58.270000</td>\n",
       "      <td>58.270000</td>\n",
       "      <td>169494100</td>\n",
       "    </tr>\n",
       "    <tr>\n",
       "      <th>2021-06-23</th>\n",
       "      <td>57.040001</td>\n",
       "      <td>61.099998</td>\n",
       "      <td>56.799999</td>\n",
       "      <td>58.299999</td>\n",
       "      <td>58.299999</td>\n",
       "      <td>116291800</td>\n",
       "    </tr>\n",
       "    <tr>\n",
       "      <th>2021-06-24</th>\n",
       "      <td>57.980000</td>\n",
       "      <td>58.759998</td>\n",
       "      <td>55.660000</td>\n",
       "      <td>56.700001</td>\n",
       "      <td>56.700001</td>\n",
       "      <td>80078400</td>\n",
       "    </tr>\n",
       "  </tbody>\n",
       "</table>\n",
       "<p>248 rows × 6 columns</p>\n",
       "</div>"
      ],
      "text/plain": [
       "                 Open       High        Low      Close  Adj Close     Volume\n",
       "Date                                                                        \n",
       "2020-07-01   4.260000   4.600000   4.260000   4.570000   4.570000    4914500\n",
       "2020-07-02   4.690000   4.690000   4.470000   4.530000   4.530000    3908400\n",
       "2020-07-06   4.620000   4.640000   4.130000   4.280000   4.280000    5489700\n",
       "2020-07-07   4.180000   4.290000   4.080000   4.130000   4.130000    2667600\n",
       "2020-07-08   4.490000   4.520000   4.200000   4.430000   4.430000    5586800\n",
       "...               ...        ...        ...        ...        ...        ...\n",
       "2021-06-18  61.259998  64.959999  56.849998  59.259998  59.259998  242896900\n",
       "2021-06-21  61.340000  63.009998  53.430000  55.689999  55.689999  185876100\n",
       "2021-06-22  54.099998  58.740002  51.049999  58.270000  58.270000  169494100\n",
       "2021-06-23  57.040001  61.099998  56.799999  58.299999  58.299999  116291800\n",
       "2021-06-24  57.980000  58.759998  55.660000  56.700001  56.700001   80078400\n",
       "\n",
       "[248 rows x 6 columns]"
      ]
     },
     "execution_count": 108,
     "metadata": {},
     "output_type": "execute_result"
    }
   ],
   "source": [
    "#Import $AMC price data from yfinance and save it as a variable, import data back to July 2020\n",
    "\n",
    "amc = yf.download('AMC', \"2020-07-01\", \"2021-06-25\")\n",
    "amc"
   ]
  },
  {
   "cell_type": "code",
   "execution_count": 109,
   "id": "4b8779d9-47a4-4cac-a654-3279e8451242",
   "metadata": {},
   "outputs": [
    {
     "data": {
      "text/plain": [
       "<AxesSubplot:xlabel='Date'>"
      ]
     },
     "execution_count": 109,
     "metadata": {},
     "output_type": "execute_result"
    },
    {
     "data": {
      "image/png": "[encoded data removed]",
      "text/plain": [
       "<Figure size 432x288 with 1 Axes>"
      ]
     },
     "metadata": {
      "needs_background": "light"
     },
     "output_type": "display_data"
    }
   ],
   "source": [
    "#Plot the adjusted close of AMC\n",
    "\n",
    "amc['Adj Close'].plot()"
   ]
  },
  {
   "cell_type": "code",
   "execution_count": 110,
   "id": "760bd965-eb01-4c92-ae0f-2542b8b233a2",
   "metadata": {},
   "outputs": [],
   "source": [
    "#Import TrendReq from pytrends to pull google trends data. If you don't have pytrends downloaded -- pip install pytrends\n",
    "\n",
    "from pytrends.request import TrendReq\n",
    "pytrends = TrendReq()"
   ]
  },
  {
   "cell_type": "code",
   "execution_count": 111,
   "id": "89d153a4-2c00-450b-a368-6237db8f33be",
   "metadata": {},
   "outputs": [
    {
     "data": {
      "text/plain": [
       "<pytrends.request.TrendReq at 0x1ab319af388>"
      ]
     },
     "execution_count": 111,
     "metadata": {},
     "output_type": "execute_result"
    }
   ],
   "source": [
    "#Import AMC interest overtime from google trends using pytrends\n",
    "\n",
    "kw_list = ['AMC']\n",
    "\n",
    "pytrends.build_payload(kw_list, timeframe='today 12-m')\n",
    "pytrends"
   ]
  },
  {
   "cell_type": "code",
   "execution_count": 112,
   "id": "7692b2fa-48c9-43f4-bae3-38ce8cab028c",
   "metadata": {},
   "outputs": [
    {
     "data": {
      "text/html": [
       "<div>\n",
       "<style scoped>\n",
       "    .dataframe tbody tr th:only-of-type {\n",
       "        vertical-align: middle;\n",
       "    }\n",
       "\n",
       "    .dataframe tbody tr th {\n",
       "        vertical-align: top;\n",
       "    }\n",
       "\n",
       "    .dataframe thead th {\n",
       "        text-align: right;\n",
       "    }\n",
       "</style>\n",
       "<table border=\"1\" class=\"dataframe\">\n",
       "  <thead>\n",
       "    <tr style=\"text-align: right;\">\n",
       "      <th></th>\n",
       "      <th>AMC</th>\n",
       "      <th>isPartial</th>\n",
       "    </tr>\n",
       "    <tr>\n",
       "      <th>date</th>\n",
       "      <th></th>\n",
       "      <th></th>\n",
       "    </tr>\n",
       "  </thead>\n",
       "  <tbody>\n",
       "    <tr>\n",
       "      <th>2020-06-28</th>\n",
       "      <td>6</td>\n",
       "      <td>False</td>\n",
       "    </tr>\n",
       "    <tr>\n",
       "      <th>2020-07-05</th>\n",
       "      <td>6</td>\n",
       "      <td>False</td>\n",
       "    </tr>\n",
       "    <tr>\n",
       "      <th>2020-07-12</th>\n",
       "      <td>6</td>\n",
       "      <td>False</td>\n",
       "    </tr>\n",
       "    <tr>\n",
       "      <th>2020-07-19</th>\n",
       "      <td>6</td>\n",
       "      <td>False</td>\n",
       "    </tr>\n",
       "    <tr>\n",
       "      <th>2020-07-26</th>\n",
       "      <td>6</td>\n",
       "      <td>False</td>\n",
       "    </tr>\n",
       "    <tr>\n",
       "      <th>2020-08-02</th>\n",
       "      <td>5</td>\n",
       "      <td>False</td>\n",
       "    </tr>\n",
       "    <tr>\n",
       "      <th>2020-08-09</th>\n",
       "      <td>9</td>\n",
       "      <td>False</td>\n",
       "    </tr>\n",
       "    <tr>\n",
       "      <th>2020-08-16</th>\n",
       "      <td>11</td>\n",
       "      <td>False</td>\n",
       "    </tr>\n",
       "    <tr>\n",
       "      <th>2020-08-23</th>\n",
       "      <td>9</td>\n",
       "      <td>False</td>\n",
       "    </tr>\n",
       "    <tr>\n",
       "      <th>2020-08-30</th>\n",
       "      <td>9</td>\n",
       "      <td>False</td>\n",
       "    </tr>\n",
       "    <tr>\n",
       "      <th>2020-09-06</th>\n",
       "      <td>8</td>\n",
       "      <td>False</td>\n",
       "    </tr>\n",
       "    <tr>\n",
       "      <th>2020-09-13</th>\n",
       "      <td>8</td>\n",
       "      <td>False</td>\n",
       "    </tr>\n",
       "    <tr>\n",
       "      <th>2020-09-20</th>\n",
       "      <td>8</td>\n",
       "      <td>False</td>\n",
       "    </tr>\n",
       "    <tr>\n",
       "      <th>2020-09-27</th>\n",
       "      <td>10</td>\n",
       "      <td>False</td>\n",
       "    </tr>\n",
       "    <tr>\n",
       "      <th>2020-10-04</th>\n",
       "      <td>11</td>\n",
       "      <td>False</td>\n",
       "    </tr>\n",
       "    <tr>\n",
       "      <th>2020-10-11</th>\n",
       "      <td>12</td>\n",
       "      <td>False</td>\n",
       "    </tr>\n",
       "    <tr>\n",
       "      <th>2020-10-18</th>\n",
       "      <td>11</td>\n",
       "      <td>False</td>\n",
       "    </tr>\n",
       "    <tr>\n",
       "      <th>2020-10-25</th>\n",
       "      <td>9</td>\n",
       "      <td>False</td>\n",
       "    </tr>\n",
       "    <tr>\n",
       "      <th>2020-11-01</th>\n",
       "      <td>8</td>\n",
       "      <td>False</td>\n",
       "    </tr>\n",
       "    <tr>\n",
       "      <th>2020-11-08</th>\n",
       "      <td>9</td>\n",
       "      <td>False</td>\n",
       "    </tr>\n",
       "    <tr>\n",
       "      <th>2020-11-15</th>\n",
       "      <td>7</td>\n",
       "      <td>False</td>\n",
       "    </tr>\n",
       "    <tr>\n",
       "      <th>2020-11-22</th>\n",
       "      <td>8</td>\n",
       "      <td>False</td>\n",
       "    </tr>\n",
       "    <tr>\n",
       "      <th>2020-11-29</th>\n",
       "      <td>8</td>\n",
       "      <td>False</td>\n",
       "    </tr>\n",
       "    <tr>\n",
       "      <th>2020-12-06</th>\n",
       "      <td>8</td>\n",
       "      <td>False</td>\n",
       "    </tr>\n",
       "    <tr>\n",
       "      <th>2020-12-13</th>\n",
       "      <td>8</td>\n",
       "      <td>False</td>\n",
       "    </tr>\n",
       "    <tr>\n",
       "      <th>2020-12-20</th>\n",
       "      <td>9</td>\n",
       "      <td>False</td>\n",
       "    </tr>\n",
       "    <tr>\n",
       "      <th>2020-12-27</th>\n",
       "      <td>10</td>\n",
       "      <td>False</td>\n",
       "    </tr>\n",
       "    <tr>\n",
       "      <th>2021-01-03</th>\n",
       "      <td>8</td>\n",
       "      <td>False</td>\n",
       "    </tr>\n",
       "    <tr>\n",
       "      <th>2021-01-10</th>\n",
       "      <td>8</td>\n",
       "      <td>False</td>\n",
       "    </tr>\n",
       "    <tr>\n",
       "      <th>2021-01-17</th>\n",
       "      <td>10</td>\n",
       "      <td>False</td>\n",
       "    </tr>\n",
       "    <tr>\n",
       "      <th>2021-01-24</th>\n",
       "      <td>100</td>\n",
       "      <td>False</td>\n",
       "    </tr>\n",
       "    <tr>\n",
       "      <th>2021-01-31</th>\n",
       "      <td>77</td>\n",
       "      <td>False</td>\n",
       "    </tr>\n",
       "    <tr>\n",
       "      <th>2021-02-07</th>\n",
       "      <td>24</td>\n",
       "      <td>False</td>\n",
       "    </tr>\n",
       "    <tr>\n",
       "      <th>2021-02-14</th>\n",
       "      <td>15</td>\n",
       "      <td>False</td>\n",
       "    </tr>\n",
       "    <tr>\n",
       "      <th>2021-02-21</th>\n",
       "      <td>30</td>\n",
       "      <td>False</td>\n",
       "    </tr>\n",
       "    <tr>\n",
       "      <th>2021-02-28</th>\n",
       "      <td>22</td>\n",
       "      <td>False</td>\n",
       "    </tr>\n",
       "    <tr>\n",
       "      <th>2021-03-07</th>\n",
       "      <td>26</td>\n",
       "      <td>False</td>\n",
       "    </tr>\n",
       "    <tr>\n",
       "      <th>2021-03-14</th>\n",
       "      <td>28</td>\n",
       "      <td>False</td>\n",
       "    </tr>\n",
       "    <tr>\n",
       "      <th>2021-03-21</th>\n",
       "      <td>20</td>\n",
       "      <td>False</td>\n",
       "    </tr>\n",
       "    <tr>\n",
       "      <th>2021-03-28</th>\n",
       "      <td>20</td>\n",
       "      <td>False</td>\n",
       "    </tr>\n",
       "    <tr>\n",
       "      <th>2021-04-04</th>\n",
       "      <td>16</td>\n",
       "      <td>False</td>\n",
       "    </tr>\n",
       "    <tr>\n",
       "      <th>2021-04-11</th>\n",
       "      <td>16</td>\n",
       "      <td>False</td>\n",
       "    </tr>\n",
       "    <tr>\n",
       "      <th>2021-04-18</th>\n",
       "      <td>18</td>\n",
       "      <td>False</td>\n",
       "    </tr>\n",
       "    <tr>\n",
       "      <th>2021-04-25</th>\n",
       "      <td>17</td>\n",
       "      <td>False</td>\n",
       "    </tr>\n",
       "    <tr>\n",
       "      <th>2021-05-02</th>\n",
       "      <td>15</td>\n",
       "      <td>False</td>\n",
       "    </tr>\n",
       "    <tr>\n",
       "      <th>2021-05-09</th>\n",
       "      <td>22</td>\n",
       "      <td>False</td>\n",
       "    </tr>\n",
       "    <tr>\n",
       "      <th>2021-05-16</th>\n",
       "      <td>23</td>\n",
       "      <td>False</td>\n",
       "    </tr>\n",
       "    <tr>\n",
       "      <th>2021-05-23</th>\n",
       "      <td>48</td>\n",
       "      <td>False</td>\n",
       "    </tr>\n",
       "    <tr>\n",
       "      <th>2021-05-30</th>\n",
       "      <td>90</td>\n",
       "      <td>False</td>\n",
       "    </tr>\n",
       "    <tr>\n",
       "      <th>2021-06-06</th>\n",
       "      <td>61</td>\n",
       "      <td>False</td>\n",
       "    </tr>\n",
       "    <tr>\n",
       "      <th>2021-06-13</th>\n",
       "      <td>49</td>\n",
       "      <td>False</td>\n",
       "    </tr>\n",
       "    <tr>\n",
       "      <th>2021-06-20</th>\n",
       "      <td>38</td>\n",
       "      <td>True</td>\n",
       "    </tr>\n",
       "  </tbody>\n",
       "</table>\n",
       "</div>"
      ],
      "text/plain": [
       "            AMC isPartial\n",
       "date                     \n",
       "2020-06-28    6     False\n",
       "2020-07-05    6     False\n",
       "2020-07-12    6     False\n",
       "2020-07-19    6     False\n",
       "2020-07-26    6     False\n",
       "2020-08-02    5     False\n",
       "2020-08-09    9     False\n",
       "2020-08-16   11     False\n",
       "2020-08-23    9     False\n",
       "2020-08-30    9     False\n",
       "2020-09-06    8     False\n",
       "2020-09-13    8     False\n",
       "2020-09-20    8     False\n",
       "2020-09-27   10     False\n",
       "2020-10-04   11     False\n",
       "2020-10-11   12     False\n",
       "2020-10-18   11     False\n",
       "2020-10-25    9     False\n",
       "2020-11-01    8     False\n",
       "2020-11-08    9     False\n",
       "2020-11-15    7     False\n",
       "2020-11-22    8     False\n",
       "2020-11-29    8     False\n",
       "2020-12-06    8     False\n",
       "2020-12-13    8     False\n",
       "2020-12-20    9     False\n",
       "2020-12-27   10     False\n",
       "2021-01-03    8     False\n",
       "2021-01-10    8     False\n",
       "2021-01-17   10     False\n",
       "2021-01-24  100     False\n",
       "2021-01-31   77     False\n",
       "2021-02-07   24     False\n",
       "2021-02-14   15     False\n",
       "2021-02-21   30     False\n",
       "2021-02-28   22     False\n",
       "2021-03-07   26     False\n",
       "2021-03-14   28     False\n",
       "2021-03-21   20     False\n",
       "2021-03-28   20     False\n",
       "2021-04-04   16     False\n",
       "2021-04-11   16     False\n",
       "2021-04-18   18     False\n",
       "2021-04-25   17     False\n",
       "2021-05-02   15     False\n",
       "2021-05-09   22     False\n",
       "2021-05-16   23     False\n",
       "2021-05-23   48     False\n",
       "2021-05-30   90     False\n",
       "2021-06-06   61     False\n",
       "2021-06-13   49     False\n",
       "2021-06-20   38      True"
      ]
     },
     "execution_count": 112,
     "metadata": {},
     "output_type": "execute_result"
    }
   ],
   "source": [
    "#Use the .interest_over_time() function to extract the google trends data as a dataframe. Save to a variable \n",
    "\n",
    "amc_gt = pytrends.interest_over_time()\n",
    "amc_gt"
   ]
  },
  {
   "cell_type": "code",
   "execution_count": 113,
   "id": "2b2d5de7-a683-4b55-bf36-b7c8b14d80a2",
   "metadata": {},
   "outputs": [
    {
     "data": {
      "text/plain": [
       "Text(0.5, 1.0, 'AMC Adj Close & Google Trends Interest Overtime')"
      ]
     },
     "execution_count": 113,
     "metadata": {},
     "output_type": "execute_result"
    },
    {
     "data": {
      "image/png": "[encoded data removed]",
      "text/plain": [
       "<Figure size 432x288 with 1 Axes>"
      ]
     },
     "metadata": {
      "needs_background": "light"
     },
     "output_type": "display_data"
    }
   ],
   "source": [
    "#Plot the AMC adjusted price along with the google trends interest overtime \n",
    "\n",
    "plt.plot(amc['Adj Close'], label = 'AMC Adj Close')\n",
    "plt.plot(amc_gt['AMC'], label = 'Google Trends Interest')\n",
    "plt.legend(loc='upper left')\n",
    "plt.title('AMC Adj Close & Google Trends Interest Overtime')"
   ]
  },
  {
   "cell_type": "code",
   "execution_count": 114,
   "id": "9ccd366a-96ca-4ef4-87ab-29836ab1ccf9",
   "metadata": {},
   "outputs": [],
   "source": [
    "#Import correlation functions from statsmodels library \n",
    "\n",
    "from statsmodels.graphics.tsaplots import plot_acf, plot_pacf"
   ]
  },
  {
   "cell_type": "code",
   "execution_count": 115,
   "id": "8439cfbc-d841-486d-9792-c6e5ba75346f",
   "metadata": {},
   "outputs": [
    {
     "data": {
      "image/png": "[encoded data removed]",
      "text/plain": [
       "<Figure size 432x288 with 1 Axes>"
      ]
     },
     "execution_count": 115,
     "metadata": {},
     "output_type": "execute_result"
    },
    {
     "data": {
      "image/png": "[encoded data removed]",
      "text/plain": [
       "<Figure size 432x288 with 1 Axes>"
      ]
     },
     "metadata": {
      "needs_background": "light"
     },
     "output_type": "display_data"
    }
   ],
   "source": [
    "# Plot the auto correlation of AMC Adjusted Close Prices. Autocorrelation, also known as serial correlation,\n",
    "# refers to the degree of correlation of the same variables between two successive time intervals.\n",
    "\n",
    "plot_acf(amc['Adj Close'], lags = 48)"
   ]
  },
  {
   "cell_type": "code",
   "execution_count": 116,
   "id": "8e41ec24-c15b-4e57-8393-2cf1d66f1e68",
   "metadata": {},
   "outputs": [
    {
     "data": {
      "image/png": "[encoded data removed]",
      "text/plain": [
       "<Figure size 432x288 with 1 Axes>"
      ]
     },
     "execution_count": 116,
     "metadata": {},
     "output_type": "execute_result"
    },
    {
     "data": {
      "image/png": "[encoded data removed]",
      "text/plain": [
       "<Figure size 432x288 with 1 Axes>"
      ]
     },
     "metadata": {
      "needs_background": "light"
     },
     "output_type": "display_data"
    }
   ],
   "source": [
    "#Plot the partial autocorrelation of AMC Adj Close Prices. \n",
    "\n",
    "sms.graphics.tsaplots.plot_pacf(amc['Adj Close'], lags = 24, zero = False)"
   ]
  },
  {
   "cell_type": "code",
   "execution_count": 117,
   "id": "aa48fe28-762f-4156-b44c-7882f7c0b306",
   "metadata": {},
   "outputs": [
    {
     "data": {
      "image/png": "[encoded data removed]",
      "text/plain": [
       "<Figure size 432x288 with 1 Axes>"
      ]
     },
     "execution_count": 117,
     "metadata": {},
     "output_type": "execute_result"
    },
    {
     "data": {
      "image/png": "[encoded data removed]",
      "text/plain": [
       "<Figure size 432x288 with 1 Axes>"
      ]
     },
     "metadata": {
      "needs_background": "light"
     },
     "output_type": "display_data"
    }
   ],
   "source": [
    "# Plot the auto correlation of AMC Google Trends \n",
    "\n",
    "plot_acf(amc_gt['AMC'], lags = 48)"
   ]
  },
  {
   "cell_type": "code",
   "execution_count": 118,
   "id": "bf7bf12a-5e06-404e-b9fd-739f2390914e",
   "metadata": {},
   "outputs": [
    {
     "data": {
      "image/png": "[encoded data removed]",
      "text/plain": [
       "<Figure size 432x288 with 1 Axes>"
      ]
     },
     "execution_count": 118,
     "metadata": {},
     "output_type": "execute_result"
    },
    {
     "data": {
      "image/png": "[encoded data removed]",
      "text/plain": [
       "<Figure size 432x288 with 1 Axes>"
      ]
     },
     "metadata": {
      "needs_background": "light"
     },
     "output_type": "display_data"
    }
   ],
   "source": [
    "#Plot the partial autocorrelation of google trends interest \n",
    "\n",
    "sms.graphics.tsaplots.plot_pacf(amc_gt['AMC'], lags = 24, zero = False)"
   ]
  },
  {
   "cell_type": "code",
   "execution_count": null,
   "id": "2d065637-0a98-431b-bad7-1635e3d8302d",
   "metadata": {},
   "outputs": [],
   "source": []
  }
 ],
 "metadata": {
  "kernelspec": {
   "display_name": "Python 3",
   "language": "python",
   "name": "python3"
  },
  "language_info": {
   "codemirror_mode": {
    "name": "ipython",
    "version": 3
   },
   "file_extension": ".py",
   "mimetype": "text/x-python",
   "name": "python",
   "nbconvert_exporter": "python",
   "pygments_lexer": "ipython3",
   "version": "3.7.10"
  }
 },
 "nbformat": 4,
 "nbformat_minor": 5
}
