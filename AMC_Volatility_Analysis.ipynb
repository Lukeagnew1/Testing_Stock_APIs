{
 "cells": [
  {
   "cell_type": "code",
   "execution_count": 1,
   "id": "5c44e206-74de-40ee-8116-aacec926979b",
   "metadata": {},
   "outputs": [],
   "source": [
    "import pandas as pd\n",
    "import numpy as np\n",
    "import matplotlib.pyplot as plt \n",
    "import yfinance as yf \n",
    "import statsmodels.api as sm\n",
    "import statsmodels as sms\n",
    "\n",
    "%matplotlib inline"
   ]
  },
  {
   "cell_type": "code",
   "execution_count": 2,
   "id": "69461d6f-a325-4cd6-b7e0-3ca553ff67f5",
   "metadata": {},
   "outputs": [
    {
     "name": "stdout",
     "output_type": "stream",
     "text": [
      "[*********************100%***********************]  1 of 1 completed\n"
     ]
    }
   ],
   "source": [
    "# Run an analysis on the volume of AMC\n",
    "\n",
    "amc_vol = pd.DataFrame(yf.download('AMC', \"2020-07-01\", \"2021-06-25\", parse_dates=True, index_col='date'))"
   ]
  },
  {
   "cell_type": "code",
   "execution_count": 3,
   "id": "e1a09629-e23a-404c-9417-b540e6b917e8",
   "metadata": {},
   "outputs": [
    {
     "data": {
      "text/plain": [
       "<AxesSubplot:title={'center':'% Change of AMC'}, xlabel='Date'>"
      ]
     },
     "execution_count": 3,
     "metadata": {},
     "output_type": "execute_result"
    },
    {
     "data": {
      "image/png": "[encoded data removed]",
      "text/plain": [
       "<Figure size 432x288 with 1 Axes>"
      ]
     },
     "metadata": {
      "needs_background": "light"
     },
     "output_type": "display_data"
    }
   ],
   "source": [
    "#Plot the percentage change of AMC overtime\n",
    "\n",
    "amc_vol['Close'].pct_change().plot(title = '% Change of AMC')"
   ]
  },
  {
   "cell_type": "code",
   "execution_count": 4,
   "id": "be00c245-3ecb-46dc-ac2f-da80e5c75564",
   "metadata": {},
   "outputs": [
    {
     "data": {
      "text/plain": [
       "Date\n",
       "2020-07-02   -0.875273\n",
       "2020-07-06   -5.518764\n",
       "2020-07-07   -3.504675\n",
       "2020-07-08    7.263915\n",
       "2020-07-09    3.160279\n",
       "                ...   \n",
       "2021-06-18   -2.420552\n",
       "2021-06-21   -6.024299\n",
       "2021-06-22    4.632792\n",
       "2021-06-23    0.051482\n",
       "2021-06-24   -2.744423\n",
       "Name: Close, Length: 247, dtype: float64"
      ]
     },
     "execution_count": 4,
     "metadata": {},
     "output_type": "execute_result"
    }
   ],
   "source": [
    "# Structure data for GARCH model\n",
    "\n",
    "returns = amc_vol.loc['2020':'2021'].Close.pct_change()*100\n",
    "returns = returns.dropna()\n",
    "returns"
   ]
  },
  {
   "cell_type": "code",
   "execution_count": 5,
   "id": "04698918-0e5b-463a-a6ae-5415c2f8a930",
   "metadata": {},
   "outputs": [
    {
     "name": "stdout",
     "output_type": "stream",
     "text": [
      "Iteration:      1,   Func. Count:      5,   Neg. LLF: 1161.5747023439235\n",
      "Iteration:      2,   Func. Count:     10,   Neg. LLF: 1055.292230691428\n",
      "Iteration:      3,   Func. Count:     14,   Neg. LLF: 1162.067906715684\n",
      "Iteration:      4,   Func. Count:     19,   Neg. LLF: 1055.0040917493461\n",
      "Iteration:      5,   Func. Count:     23,   Neg. LLF: 1054.9951246332041\n",
      "Iteration:      6,   Func. Count:     27,   Neg. LLF: 1054.945645996637\n",
      "Iteration:      7,   Func. Count:     31,   Neg. LLF: 1054.7339423599487\n",
      "Iteration:      8,   Func. Count:     35,   Neg. LLF: 1054.5439332784322\n",
      "Iteration:      9,   Func. Count:     39,   Neg. LLF: 1054.4885657770221\n",
      "Iteration:     10,   Func. Count:     43,   Neg. LLF: 1054.4845683181902\n",
      "Iteration:     11,   Func. Count:     47,   Neg. LLF: 1054.484514090023\n",
      "Iteration:     12,   Func. Count:     50,   Neg. LLF: 1054.4845119263807\n",
      "Optimization terminated successfully    (Exit mode 0)\n",
      "            Current function value: 1054.484514090023\n",
      "            Iterations: 12\n",
      "            Function evaluations: 50\n",
      "            Gradient evaluations: 12\n"
     ]
    },
    {
     "data": {
      "text/html": [
       "<table class=\"simpletable\">\n",
       "<caption>Zero Mean - GARCH Model Results</caption>\n",
       "<tr>\n",
       "  <th>Dep. Variable:</th>        <td>Close</td>       <th>  R-squared:         </th>  <td>   0.000</td> \n",
       "</tr>\n",
       "<tr>\n",
       "  <th>Mean Model:</th>         <td>Zero Mean</td>     <th>  Adj. R-squared:    </th>  <td>   0.004</td> \n",
       "</tr>\n",
       "<tr>\n",
       "  <th>Vol Model:</th>            <td>GARCH</td>       <th>  Log-Likelihood:    </th> <td>  -1054.48</td>\n",
       "</tr>\n",
       "<tr>\n",
       "  <th>Distribution:</th>        <td>Normal</td>       <th>  AIC:               </th> <td>   2114.97</td>\n",
       "</tr>\n",
       "<tr>\n",
       "  <th>Method:</th>        <td>Maximum Likelihood</td> <th>  BIC:               </th> <td>   2125.50</td>\n",
       "</tr>\n",
       "<tr>\n",
       "  <th></th>                        <td></td>          <th>  No. Observations:  </th>     <td>247</td>   \n",
       "</tr>\n",
       "<tr>\n",
       "  <th>Date:</th>           <td>Tue, Jun 29 2021</td>  <th>  Df Residuals:      </th>     <td>247</td>   \n",
       "</tr>\n",
       "<tr>\n",
       "  <th>Time:</th>               <td>23:51:34</td>      <th>  Df Model:          </th>      <td>0</td>    \n",
       "</tr>\n",
       "</table>\n",
       "<table class=\"simpletable\">\n",
       "<caption>Volatility Model</caption>\n",
       "<tr>\n",
       "      <td></td>        <th>coef</th>     <th>std err</th>      <th>t</th>       <th>P>|t|</th>      <th>95.0% Conf. Int.</th>   \n",
       "</tr>\n",
       "<tr>\n",
       "  <th>omega</th>    <td>   41.6001</td> <td>  101.582</td> <td>    0.410</td> <td>    0.682</td> <td>[-1.575e+02,2.407e+02]</td>\n",
       "</tr>\n",
       "<tr>\n",
       "  <th>alpha[1]</th> <td>    0.5348</td> <td>    0.262</td> <td>    2.040</td> <td>4.136e-02</td>   <td>[2.096e-02,  1.049]</td> \n",
       "</tr>\n",
       "<tr>\n",
       "  <th>beta[1]</th>  <td>    0.4652</td> <td>    0.450</td> <td>    1.034</td> <td>    0.301</td>    <td>[ -0.416,  1.347]</td>  \n",
       "</tr>\n",
       "</table><br/><br/>Covariance estimator: robust"
      ],
      "text/plain": [
       "<class 'statsmodels.iolib.summary.Summary'>\n",
       "\"\"\"\n",
       "                       Zero Mean - GARCH Model Results                        \n",
       "==============================================================================\n",
       "Dep. Variable:                  Close   R-squared:                       0.000\n",
       "Mean Model:                 Zero Mean   Adj. R-squared:                  0.004\n",
       "Vol Model:                      GARCH   Log-Likelihood:               -1054.48\n",
       "Distribution:                  Normal   AIC:                           2114.97\n",
       "Method:            Maximum Likelihood   BIC:                           2125.50\n",
       "                                        No. Observations:                  247\n",
       "Date:                Tue, Jun 29 2021   Df Residuals:                      247\n",
       "Time:                        23:51:34   Df Model:                            0\n",
       "                               Volatility Model                              \n",
       "=============================================================================\n",
       "                 coef    std err          t      P>|t|       95.0% Conf. Int.\n",
       "-----------------------------------------------------------------------------\n",
       "omega         41.6001    101.582      0.410      0.682 [-1.575e+02,2.407e+02]\n",
       "alpha[1]       0.5348      0.262      2.040  4.136e-02    [2.096e-02,  1.049]\n",
       "beta[1]        0.4652      0.450      1.034      0.301      [ -0.416,  1.347]\n",
       "=============================================================================\n",
       "\n",
       "Covariance estimator: robust\n",
       "\"\"\""
      ]
     },
     "execution_count": 5,
     "metadata": {},
     "output_type": "execute_result"
    }
   ],
   "source": [
    "# Use the GARCH model from statsmodels to give prediction on the volume for the next 10 trading days. The p and q paramaters are the lag time for the Auto Regression and Moving Average  \n",
    "\n",
    "from arch import arch_model \n",
    "model = arch_model(returns, mean = 'Zero', vol='GARCH', p=1, q=1)\n",
    "\n",
    "results = model.fit()\n",
    "\n",
    "results.summary()"
   ]
  },
  {
   "cell_type": "code",
   "execution_count": 6,
   "id": "71775b68-d807-44e6-8475-2e785ab65640",
   "metadata": {},
   "outputs": [
    {
     "data": {
      "image/png": "[encoded data removed]",
      "text/plain": [
       "<Figure size 432x288 with 2 Axes>"
      ]
     },
     "metadata": {
      "needs_background": "light"
     },
     "output_type": "display_data"
    }
   ],
   "source": [
    "# Use the GARCH model to plot the Standardized Residuals and Annualized Conditional Volatility \n",
    "\n",
    "fig = results.plot(annualize = 'D')"
   ]
  },
  {
   "cell_type": "code",
   "execution_count": 7,
   "id": "c692f06c-f994-4ca6-8891-dd37092ba3a8",
   "metadata": {},
   "outputs": [
    {
     "data": {
      "text/plain": [
       "'2021-06-24'"
      ]
     },
     "execution_count": 7,
     "metadata": {},
     "output_type": "execute_result"
    }
   ],
   "source": [
    "#Find the last day in the dataset\n",
    "\n",
    "last_day = amc_vol.index.max().strftime('%Y-%m-%d')\n",
    "last_day"
   ]
  },
  {
   "cell_type": "code",
   "execution_count": 8,
   "id": "a9f3e097-caa6-4a31-9784-f3999dd5cf34",
   "metadata": {},
   "outputs": [
    {
     "name": "stderr",
     "output_type": "stream",
     "text": [
      "C:\\Users\\Luke\\anaconda3\\envs\\pyvizenv\\lib\\site-packages\\arch\\__future__\\_utility.py:21: FutureWarning: \n",
      "The default for reindex is True. After September 2021 this will change to\n",
      "False. Set reindex to True or False to silence this message. Alternatively,\n",
      "you can use the import comment\n",
      "\n",
      "from arch.__future__ import reindexing\n",
      "\n",
      "to globally set reindex to True and silence this warning.\n",
      "\n",
      "  FutureWarning,\n"
     ]
    }
   ],
   "source": [
    "# Make a forecast of the future volatility of AMC over the next 10 days using the GARCH model \n",
    "\n",
    "forecast_horizon = 10 \n",
    "\n",
    "forecasts = results.forecast(start = \"2021-06-24\", horizon = forecast_horizon)"
   ]
  },
  {
   "cell_type": "code",
   "execution_count": 9,
   "id": "249613e1-d360-4d24-ae61-ed2220372e88",
   "metadata": {},
   "outputs": [
    {
     "data": {
      "text/html": [
       "<div>\n",
       "<style scoped>\n",
       "    .dataframe tbody tr th:only-of-type {\n",
       "        vertical-align: middle;\n",
       "    }\n",
       "\n",
       "    .dataframe tbody tr th {\n",
       "        vertical-align: top;\n",
       "    }\n",
       "\n",
       "    .dataframe thead th {\n",
       "        text-align: right;\n",
       "    }\n",
       "</style>\n",
       "<table border=\"1\" class=\"dataframe\">\n",
       "  <thead>\n",
       "    <tr style=\"text-align: right;\">\n",
       "      <th></th>\n",
       "      <th>h.01</th>\n",
       "      <th>h.02</th>\n",
       "      <th>h.03</th>\n",
       "      <th>h.04</th>\n",
       "      <th>h.05</th>\n",
       "      <th>h.06</th>\n",
       "      <th>h.07</th>\n",
       "      <th>h.08</th>\n",
       "      <th>h.09</th>\n",
       "      <th>h.10</th>\n",
       "    </tr>\n",
       "    <tr>\n",
       "      <th>Date</th>\n",
       "      <th></th>\n",
       "      <th></th>\n",
       "      <th></th>\n",
       "      <th></th>\n",
       "      <th></th>\n",
       "      <th></th>\n",
       "      <th></th>\n",
       "      <th></th>\n",
       "      <th></th>\n",
       "      <th></th>\n",
       "    </tr>\n",
       "  </thead>\n",
       "  <tbody>\n",
       "    <tr>\n",
       "      <th>2021-06-24</th>\n",
       "      <td>149.195613</td>\n",
       "      <td>180.949077</td>\n",
       "      <td>207.908166</td>\n",
       "      <td>231.752115</td>\n",
       "      <td>253.361955</td>\n",
       "      <td>273.268216</td>\n",
       "      <td>291.81973</td>\n",
       "      <td>309.260396</td>\n",
       "      <td>325.768675</td>\n",
       "      <td>341.47982</td>\n",
       "    </tr>\n",
       "  </tbody>\n",
       "</table>\n",
       "</div>"
      ],
      "text/plain": [
       "                  h.01        h.02        h.03        h.04        h.05  \\\n",
       "Date                                                                     \n",
       "2021-06-24  149.195613  180.949077  207.908166  231.752115  253.361955   \n",
       "\n",
       "                  h.06       h.07        h.08        h.09       h.10  \n",
       "Date                                                                  \n",
       "2021-06-24  273.268216  291.81973  309.260396  325.768675  341.47982  "
      ]
     },
     "execution_count": 9,
     "metadata": {},
     "output_type": "execute_result"
    }
   ],
   "source": [
    "# Annualize the forecast \n",
    "\n",
    "inter = np.sqrt(forecasts.variance.dropna() * 252)\n",
    "inter"
   ]
  },
  {
   "cell_type": "code",
   "execution_count": 10,
   "id": "4cb4b95c-7806-47f7-8551-fb8be5f14be7",
   "metadata": {},
   "outputs": [
    {
     "data": {
      "text/html": [
       "<div>\n",
       "<style scoped>\n",
       "    .dataframe tbody tr th:only-of-type {\n",
       "        vertical-align: middle;\n",
       "    }\n",
       "\n",
       "    .dataframe tbody tr th {\n",
       "        vertical-align: top;\n",
       "    }\n",
       "\n",
       "    .dataframe thead th {\n",
       "        text-align: right;\n",
       "    }\n",
       "</style>\n",
       "<table border=\"1\" class=\"dataframe\">\n",
       "  <thead>\n",
       "    <tr style=\"text-align: right;\">\n",
       "      <th>Date</th>\n",
       "      <th>2021-06-24</th>\n",
       "    </tr>\n",
       "  </thead>\n",
       "  <tbody>\n",
       "    <tr>\n",
       "      <th>h.01</th>\n",
       "      <td>149.195613</td>\n",
       "    </tr>\n",
       "    <tr>\n",
       "      <th>h.02</th>\n",
       "      <td>180.949077</td>\n",
       "    </tr>\n",
       "    <tr>\n",
       "      <th>h.03</th>\n",
       "      <td>207.908166</td>\n",
       "    </tr>\n",
       "    <tr>\n",
       "      <th>h.04</th>\n",
       "      <td>231.752115</td>\n",
       "    </tr>\n",
       "    <tr>\n",
       "      <th>h.05</th>\n",
       "      <td>253.361955</td>\n",
       "    </tr>\n",
       "  </tbody>\n",
       "</table>\n",
       "</div>"
      ],
      "text/plain": [
       "Date  2021-06-24\n",
       "h.01  149.195613\n",
       "h.02  180.949077\n",
       "h.03  207.908166\n",
       "h.04  231.752115\n",
       "h.05  253.361955"
      ]
     },
     "execution_count": 10,
     "metadata": {},
     "output_type": "execute_result"
    }
   ],
   "source": [
    "# Transpose the forecast so that it is easier to plot\n",
    "final = inter.dropna().T\n",
    "final.head()"
   ]
  },
  {
   "cell_type": "code",
   "execution_count": 11,
   "id": "145ad6e1-1b36-438f-91c8-f6df529884ef",
   "metadata": {},
   "outputs": [
    {
     "data": {
      "text/plain": [
       "<AxesSubplot:title={'center':'GARCH Volume Forecast over the next 10 Trading Days'}>"
      ]
     },
     "execution_count": 11,
     "metadata": {},
     "output_type": "execute_result"
    },
    {
     "data": {
      "image/png": "[encoded data removed]",
      "text/plain": [
       "<Figure size 432x288 with 1 Axes>"
      ]
     },
     "metadata": {
      "needs_background": "light"
     },
     "output_type": "display_data"
    }
   ],
   "source": [
    "final.plot(title = 'GARCH Volume Forecast over the next 10 Trading Days')"
   ]
  },
  {
   "cell_type": "code",
   "execution_count": null,
   "id": "99060940-8672-4e69-a374-e074afb03cd5",
   "metadata": {},
   "outputs": [],
   "source": []
  }
 ],
 "metadata": {
  "kernelspec": {
   "display_name": "Python 3",
   "language": "python",
   "name": "python3"
  },
  "language_info": {
   "codemirror_mode": {
    "name": "ipython",
    "version": 3
   },
   "file_extension": ".py",
   "mimetype": "text/x-python",
   "name": "python",
   "nbconvert_exporter": "python",
   "pygments_lexer": "ipython3",
   "version": "3.7.10"
  }
 },
 "nbformat": 4,
 "nbformat_minor": 5
}
