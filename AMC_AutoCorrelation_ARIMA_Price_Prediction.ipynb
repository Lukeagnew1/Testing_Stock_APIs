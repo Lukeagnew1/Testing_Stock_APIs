{
 "cells": [
  {
   "cell_type": "code",
   "execution_count": 1,
   "id": "a245ff5d-4d8c-43b7-8271-5c7a50567fe2",
   "metadata": {},
   "outputs": [],
   "source": [
    "#Import Libraries\n",
    "\n",
    "import pandas as pd\n",
    "import numpy as np\n",
    "import matplotlib.pyplot as plt \n",
    "import yfinance as yf \n",
    "import statsmodels.api as sm\n",
    "import statsmodels as sms\n",
    "\n",
    "%matplotlib inline"
   ]
  },
  {
   "cell_type": "code",
   "execution_count": 2,
   "id": "613119ed-a4f2-40c7-8ce7-4dadb0dbb542",
   "metadata": {},
   "outputs": [
    {
     "name": "stdout",
     "output_type": "stream",
     "text": [
      "[*********************100%***********************]  1 of 1 completed\n"
     ]
    },
    {
     "data": {
      "text/html": [
       "<div>\n",
       "<style scoped>\n",
       "    .dataframe tbody tr th:only-of-type {\n",
       "        vertical-align: middle;\n",
       "    }\n",
       "\n",
       "    .dataframe tbody tr th {\n",
       "        vertical-align: top;\n",
       "    }\n",
       "\n",
       "    .dataframe thead th {\n",
       "        text-align: right;\n",
       "    }\n",
       "</style>\n",
       "<table border=\"1\" class=\"dataframe\">\n",
       "  <thead>\n",
       "    <tr style=\"text-align: right;\">\n",
       "      <th></th>\n",
       "      <th>Open</th>\n",
       "      <th>High</th>\n",
       "      <th>Low</th>\n",
       "      <th>Close</th>\n",
       "      <th>Adj Close</th>\n",
       "      <th>Volume</th>\n",
       "    </tr>\n",
       "    <tr>\n",
       "      <th>Date</th>\n",
       "      <th></th>\n",
       "      <th></th>\n",
       "      <th></th>\n",
       "      <th></th>\n",
       "      <th></th>\n",
       "      <th></th>\n",
       "    </tr>\n",
       "  </thead>\n",
       "  <tbody>\n",
       "    <tr>\n",
       "      <th>2020-07-01</th>\n",
       "      <td>4.260000</td>\n",
       "      <td>4.600000</td>\n",
       "      <td>4.260000</td>\n",
       "      <td>4.570000</td>\n",
       "      <td>4.570000</td>\n",
       "      <td>4914500</td>\n",
       "    </tr>\n",
       "    <tr>\n",
       "      <th>2020-07-02</th>\n",
       "      <td>4.690000</td>\n",
       "      <td>4.690000</td>\n",
       "      <td>4.470000</td>\n",
       "      <td>4.530000</td>\n",
       "      <td>4.530000</td>\n",
       "      <td>3908400</td>\n",
       "    </tr>\n",
       "    <tr>\n",
       "      <th>2020-07-06</th>\n",
       "      <td>4.620000</td>\n",
       "      <td>4.640000</td>\n",
       "      <td>4.130000</td>\n",
       "      <td>4.280000</td>\n",
       "      <td>4.280000</td>\n",
       "      <td>5489700</td>\n",
       "    </tr>\n",
       "    <tr>\n",
       "      <th>2020-07-07</th>\n",
       "      <td>4.180000</td>\n",
       "      <td>4.290000</td>\n",
       "      <td>4.080000</td>\n",
       "      <td>4.130000</td>\n",
       "      <td>4.130000</td>\n",
       "      <td>2667600</td>\n",
       "    </tr>\n",
       "    <tr>\n",
       "      <th>2020-07-08</th>\n",
       "      <td>4.490000</td>\n",
       "      <td>4.520000</td>\n",
       "      <td>4.200000</td>\n",
       "      <td>4.430000</td>\n",
       "      <td>4.430000</td>\n",
       "      <td>5586800</td>\n",
       "    </tr>\n",
       "    <tr>\n",
       "      <th>...</th>\n",
       "      <td>...</td>\n",
       "      <td>...</td>\n",
       "      <td>...</td>\n",
       "      <td>...</td>\n",
       "      <td>...</td>\n",
       "      <td>...</td>\n",
       "    </tr>\n",
       "    <tr>\n",
       "      <th>2021-06-18</th>\n",
       "      <td>61.259998</td>\n",
       "      <td>64.959999</td>\n",
       "      <td>56.849998</td>\n",
       "      <td>59.259998</td>\n",
       "      <td>59.259998</td>\n",
       "      <td>242896900</td>\n",
       "    </tr>\n",
       "    <tr>\n",
       "      <th>2021-06-21</th>\n",
       "      <td>61.340000</td>\n",
       "      <td>63.009998</td>\n",
       "      <td>53.430000</td>\n",
       "      <td>55.689999</td>\n",
       "      <td>55.689999</td>\n",
       "      <td>185876100</td>\n",
       "    </tr>\n",
       "    <tr>\n",
       "      <th>2021-06-22</th>\n",
       "      <td>54.099998</td>\n",
       "      <td>58.740002</td>\n",
       "      <td>51.049999</td>\n",
       "      <td>58.270000</td>\n",
       "      <td>58.270000</td>\n",
       "      <td>169494100</td>\n",
       "    </tr>\n",
       "    <tr>\n",
       "      <th>2021-06-23</th>\n",
       "      <td>57.040001</td>\n",
       "      <td>61.099998</td>\n",
       "      <td>56.799999</td>\n",
       "      <td>58.299999</td>\n",
       "      <td>58.299999</td>\n",
       "      <td>116291800</td>\n",
       "    </tr>\n",
       "    <tr>\n",
       "      <th>2021-06-24</th>\n",
       "      <td>57.980000</td>\n",
       "      <td>58.759998</td>\n",
       "      <td>55.660000</td>\n",
       "      <td>56.700001</td>\n",
       "      <td>56.700001</td>\n",
       "      <td>80351200</td>\n",
       "    </tr>\n",
       "  </tbody>\n",
       "</table>\n",
       "<p>248 rows × 6 columns</p>\n",
       "</div>"
      ],
      "text/plain": [
       "                 Open       High        Low      Close  Adj Close     Volume\n",
       "Date                                                                        \n",
       "2020-07-01   4.260000   4.600000   4.260000   4.570000   4.570000    4914500\n",
       "2020-07-02   4.690000   4.690000   4.470000   4.530000   4.530000    3908400\n",
       "2020-07-06   4.620000   4.640000   4.130000   4.280000   4.280000    5489700\n",
       "2020-07-07   4.180000   4.290000   4.080000   4.130000   4.130000    2667600\n",
       "2020-07-08   4.490000   4.520000   4.200000   4.430000   4.430000    5586800\n",
       "...               ...        ...        ...        ...        ...        ...\n",
       "2021-06-18  61.259998  64.959999  56.849998  59.259998  59.259998  242896900\n",
       "2021-06-21  61.340000  63.009998  53.430000  55.689999  55.689999  185876100\n",
       "2021-06-22  54.099998  58.740002  51.049999  58.270000  58.270000  169494100\n",
       "2021-06-23  57.040001  61.099998  56.799999  58.299999  58.299999  116291800\n",
       "2021-06-24  57.980000  58.759998  55.660000  56.700001  56.700001   80351200\n",
       "\n",
       "[248 rows x 6 columns]"
      ]
     },
     "execution_count": 2,
     "metadata": {},
     "output_type": "execute_result"
    }
   ],
   "source": [
    "#Import $AMC price data from yfinance and save it as a variable, import data back to July 2020\n",
    "\n",
    "amc = yf.download('AMC', \"2020-07-01\", \"2021-06-25\", parse_dates=True, index_col='date')\n",
    "amc"
   ]
  },
  {
   "cell_type": "code",
   "execution_count": 3,
   "id": "edd1274b-7c45-4162-b62d-26bbee16ff04",
   "metadata": {},
   "outputs": [],
   "source": [
    "#Import correlation functions from statsmodels library \n",
    "\n",
    "from statsmodels.graphics.tsaplots import plot_acf, plot_pacf"
   ]
  },
  {
   "cell_type": "code",
   "execution_count": 4,
   "id": "9822a10b-c6f1-4a7d-8366-b2b7b58af498",
   "metadata": {},
   "outputs": [
    {
     "data": {
      "image/png": "[encoded data removed]",
      "text/plain": [
       "<Figure size 432x288 with 1 Axes>"
      ]
     },
     "execution_count": 4,
     "metadata": {},
     "output_type": "execute_result"
    },
    {
     "data": {
      "image/png": "[encoded data removed]",
      "text/plain": [
       "<Figure size 432x288 with 1 Axes>"
      ]
     },
     "metadata": {
      "needs_background": "light"
     },
     "output_type": "display_data"
    }
   ],
   "source": [
    "# Plot the auto correlation of AMC Adjusted Close Prices. Autocorrelation, also known as serial correlation,\n",
    "# refers to the degree of correlation of the same variables between two successive time intervals.\n",
    "\n",
    "plot_acf(amc['Adj Close'], lags = 48)"
   ]
  },
  {
   "cell_type": "code",
   "execution_count": 5,
   "id": "e8fec6c0-6f6c-4842-9cda-93d1bf7c4174",
   "metadata": {},
   "outputs": [
    {
     "data": {
      "image/png": "[encoded data removed]",
      "text/plain": [
       "<Figure size 432x288 with 1 Axes>"
      ]
     },
     "execution_count": 5,
     "metadata": {},
     "output_type": "execute_result"
    },
    {
     "data": {
      "image/png": "[encoded data removed]",
      "text/plain": [
       "<Figure size 432x288 with 1 Axes>"
      ]
     },
     "metadata": {
      "needs_background": "light"
     },
     "output_type": "display_data"
    }
   ],
   "source": [
    "#Plot the partial autocorrelation of AMC Adj Close Prices. \n",
    "\n",
    "sms.graphics.tsaplots.plot_pacf(amc['Adj Close'], lags = 24, zero = False)"
   ]
  },
  {
   "cell_type": "code",
   "execution_count": 7,
   "id": "48ebec71-8616-47af-b29b-e2b8ec564d9f",
   "metadata": {},
   "outputs": [
    {
     "data": {
      "text/plain": [
       "<AxesSubplot:xlabel='Date'>"
      ]
     },
     "execution_count": 7,
     "metadata": {},
     "output_type": "execute_result"
    },
    {
     "data": {
      "image/png": "[encoded data removed]",
      "text/plain": [
       "<Figure size 432x288 with 1 Axes>"
      ]
     },
     "metadata": {
      "needs_background": "light"
     },
     "output_type": "display_data"
    }
   ],
   "source": [
    "#Plot a rolling 7-dat standard deviation of TSLA's closing prices \n",
    "\n",
    "amc['Adj Close'].rolling(window=7).std().plot()"
   ]
  },
  {
   "cell_type": "code",
   "execution_count": 8,
   "id": "8cbcea18-632a-476e-81c9-3d0242ee8753",
   "metadata": {},
   "outputs": [
    {
     "data": {
      "text/plain": [
       "<AxesSubplot:xlabel='Date'>"
      ]
     },
     "execution_count": 8,
     "metadata": {},
     "output_type": "execute_result"
    },
    {
     "data": {
      "image/png": "[encoded data removed]",
      "text/plain": [
       "<Figure size 432x288 with 1 Axes>"
      ]
     },
     "metadata": {
      "needs_background": "light"
     },
     "output_type": "display_data"
    }
   ],
   "source": [
    "#Plot a rolling 30-day mean of AMC's adjusted close price \n",
    "\n",
    "amc['Adj Close'].rolling(window=30).mean().plot()"
   ]
  },
  {
   "cell_type": "code",
   "execution_count": 9,
   "id": "ad18e65a-a8ac-48af-8d6c-1750b843377f",
   "metadata": {},
   "outputs": [
    {
     "name": "stderr",
     "output_type": "stream",
     "text": [
      "C:\\Users\\Luke\\anaconda3\\envs\\pyvizenv\\lib\\site-packages\\statsmodels\\tsa\\arima_model.py:472: FutureWarning: \n",
      "statsmodels.tsa.arima_model.ARMA and statsmodels.tsa.arima_model.ARIMA have\n",
      "been deprecated in favor of statsmodels.tsa.arima.model.ARIMA (note the .\n",
      "between arima and model) and\n",
      "statsmodels.tsa.SARIMAX. These will be removed after the 0.12 release.\n",
      "\n",
      "statsmodels.tsa.arima.model.ARIMA makes use of the statespace framework and\n",
      "is both well tested and maintained.\n",
      "\n",
      "To silence this warning and continue using ARMA and ARIMA until they are\n",
      "removed, use:\n",
      "\n",
      "import warnings\n",
      "warnings.filterwarnings('ignore', 'statsmodels.tsa.arima_model.ARMA',\n",
      "                        FutureWarning)\n",
      "warnings.filterwarnings('ignore', 'statsmodels.tsa.arima_model.ARIMA',\n",
      "                        FutureWarning)\n",
      "\n",
      "  warnings.warn(ARIMA_DEPRECATION_WARN, FutureWarning)\n",
      "C:\\Users\\Luke\\anaconda3\\envs\\pyvizenv\\lib\\site-packages\\statsmodels\\tsa\\base\\tsa_model.py:583: ValueWarning: A date index has been provided, but it has no associated frequency information and so will be ignored when e.g. forecasting.\n",
      "  ' ignored when e.g. forecasting.', ValueWarning)\n",
      "C:\\Users\\Luke\\anaconda3\\envs\\pyvizenv\\lib\\site-packages\\statsmodels\\tsa\\base\\tsa_model.py:583: ValueWarning: A date index has been provided, but it has no associated frequency information and so will be ignored when e.g. forecasting.\n",
      "  ' ignored when e.g. forecasting.', ValueWarning)\n",
      "C:\\Users\\Luke\\anaconda3\\envs\\pyvizenv\\lib\\site-packages\\statsmodels\\tsa\\arima_model.py:472: FutureWarning: \n",
      "statsmodels.tsa.arima_model.ARMA and statsmodels.tsa.arima_model.ARIMA have\n",
      "been deprecated in favor of statsmodels.tsa.arima.model.ARIMA (note the .\n",
      "between arima and model) and\n",
      "statsmodels.tsa.SARIMAX. These will be removed after the 0.12 release.\n",
      "\n",
      "statsmodels.tsa.arima.model.ARIMA makes use of the statespace framework and\n",
      "is both well tested and maintained.\n",
      "\n",
      "To silence this warning and continue using ARMA and ARIMA until they are\n",
      "removed, use:\n",
      "\n",
      "import warnings\n",
      "warnings.filterwarnings('ignore', 'statsmodels.tsa.arima_model.ARMA',\n",
      "                        FutureWarning)\n",
      "warnings.filterwarnings('ignore', 'statsmodels.tsa.arima_model.ARIMA',\n",
      "                        FutureWarning)\n",
      "\n",
      "  warnings.warn(ARIMA_DEPRECATION_WARN, FutureWarning)\n"
     ]
    },
    {
     "data": {
      "text/html": [
       "<table class=\"simpletable\">\n",
       "<caption>ARIMA Model Results</caption>\n",
       "<tr>\n",
       "  <th>Dep. Variable:</th>      <td>D.Close</td>     <th>  No. Observations:  </th>    <td>247</td>  \n",
       "</tr>\n",
       "<tr>\n",
       "  <th>Model:</th>          <td>ARIMA(2, 1, 2)</td>  <th>  Log Likelihood     </th> <td>-583.639</td>\n",
       "</tr>\n",
       "<tr>\n",
       "  <th>Method:</th>             <td>css-mle</td>     <th>  S.D. of innovations</th>   <td>2.565</td> \n",
       "</tr>\n",
       "<tr>\n",
       "  <th>Date:</th>          <td>Tue, 29 Jun 2021</td> <th>  AIC                </th> <td>1179.279</td>\n",
       "</tr>\n",
       "<tr>\n",
       "  <th>Time:</th>              <td>23:49:18</td>     <th>  BIC                </th> <td>1200.335</td>\n",
       "</tr>\n",
       "<tr>\n",
       "  <th>Sample:</th>                <td>1</td>        <th>  HQIC               </th> <td>1187.756</td>\n",
       "</tr>\n",
       "<tr>\n",
       "  <th></th>                       <td> </td>        <th>                     </th>     <td> </td>   \n",
       "</tr>\n",
       "</table>\n",
       "<table class=\"simpletable\">\n",
       "<tr>\n",
       "        <td></td>           <th>coef</th>     <th>std err</th>      <th>z</th>      <th>P>|z|</th>  <th>[0.025</th>    <th>0.975]</th>  \n",
       "</tr>\n",
       "<tr>\n",
       "  <th>const</th>         <td>    0.2159</td> <td>    0.149</td> <td>    1.446</td> <td> 0.148</td> <td>   -0.077</td> <td>    0.509</td>\n",
       "</tr>\n",
       "<tr>\n",
       "  <th>ar.L1.D.Close</th> <td>    0.4554</td> <td>    0.102</td> <td>    4.468</td> <td> 0.000</td> <td>    0.256</td> <td>    0.655</td>\n",
       "</tr>\n",
       "<tr>\n",
       "  <th>ar.L2.D.Close</th> <td>   -0.6605</td> <td>    0.072</td> <td>   -9.120</td> <td> 0.000</td> <td>   -0.802</td> <td>   -0.519</td>\n",
       "</tr>\n",
       "<tr>\n",
       "  <th>ma.L1.D.Close</th> <td>   -0.7566</td> <td>    0.080</td> <td>   -9.511</td> <td> 0.000</td> <td>   -0.913</td> <td>   -0.601</td>\n",
       "</tr>\n",
       "<tr>\n",
       "  <th>ma.L2.D.Close</th> <td>    0.8597</td> <td>    0.053</td> <td>   16.252</td> <td> 0.000</td> <td>    0.756</td> <td>    0.963</td>\n",
       "</tr>\n",
       "</table>\n",
       "<table class=\"simpletable\">\n",
       "<caption>Roots</caption>\n",
       "<tr>\n",
       "    <td></td>   <th>            Real</th>  <th>         Imaginary</th> <th>         Modulus</th>  <th>        Frequency</th>\n",
       "</tr>\n",
       "<tr>\n",
       "  <th>AR.1</th> <td>           0.3447</td> <td>          -1.1812j</td> <td>           1.2304</td> <td>          -0.2048</td>\n",
       "</tr>\n",
       "<tr>\n",
       "  <th>AR.2</th> <td>           0.3447</td> <td>          +1.1812j</td> <td>           1.2304</td> <td>           0.2048</td>\n",
       "</tr>\n",
       "<tr>\n",
       "  <th>MA.1</th> <td>           0.4401</td> <td>          -0.9847j</td> <td>           1.0785</td> <td>          -0.1831</td>\n",
       "</tr>\n",
       "<tr>\n",
       "  <th>MA.2</th> <td>           0.4401</td> <td>          +0.9847j</td> <td>           1.0785</td> <td>           0.1831</td>\n",
       "</tr>\n",
       "</table>"
      ],
      "text/plain": [
       "<class 'statsmodels.iolib.summary.Summary'>\n",
       "\"\"\"\n",
       "                             ARIMA Model Results                              \n",
       "==============================================================================\n",
       "Dep. Variable:                D.Close   No. Observations:                  247\n",
       "Model:                 ARIMA(2, 1, 2)   Log Likelihood                -583.639\n",
       "Method:                       css-mle   S.D. of innovations              2.565\n",
       "Date:                Tue, 29 Jun 2021   AIC                           1179.279\n",
       "Time:                        23:49:18   BIC                           1200.335\n",
       "Sample:                             1   HQIC                          1187.756\n",
       "                                                                              \n",
       "=================================================================================\n",
       "                    coef    std err          z      P>|z|      [0.025      0.975]\n",
       "---------------------------------------------------------------------------------\n",
       "const             0.2159      0.149      1.446      0.148      -0.077       0.509\n",
       "ar.L1.D.Close     0.4554      0.102      4.468      0.000       0.256       0.655\n",
       "ar.L2.D.Close    -0.6605      0.072     -9.120      0.000      -0.802      -0.519\n",
       "ma.L1.D.Close    -0.7566      0.080     -9.511      0.000      -0.913      -0.601\n",
       "ma.L2.D.Close     0.8597      0.053     16.252      0.000       0.756       0.963\n",
       "                                    Roots                                    \n",
       "=============================================================================\n",
       "                  Real          Imaginary           Modulus         Frequency\n",
       "-----------------------------------------------------------------------------\n",
       "AR.1            0.3447           -1.1812j            1.2304           -0.2048\n",
       "AR.2            0.3447           +1.1812j            1.2304            0.2048\n",
       "MA.1            0.4401           -0.9847j            1.0785           -0.1831\n",
       "MA.2            0.4401           +0.9847j            1.0785            0.1831\n",
       "-----------------------------------------------------------------------------\n",
       "\"\"\""
      ]
     },
     "execution_count": 9,
     "metadata": {},
     "output_type": "execute_result"
    }
   ],
   "source": [
    "# Import statsmodel library to run ARIMA preditions. ARIMA uses the auto correlation and moving averages to look for correlated datapoints within a dataframe. ARIMA makes the data stationary so you \n",
    "# will not have to convert it from non stationary.\n",
    "\n",
    "from statsmodels.tsa.arima_model import ARIMA\n",
    "\n",
    "model = ARIMA(amc['Close'], order = (2,1,2))\n",
    "results = model.fit()\n",
    "results.summary()"
   ]
  },
  {
   "cell_type": "code",
   "execution_count": 10,
   "id": "8c541571-e69d-421f-9cac-6a2743c8822f",
   "metadata": {},
   "outputs": [
    {
     "data": {
      "text/plain": [
       "<AxesSubplot:title={'center':'AMC returns forecast'}>"
      ]
     },
     "execution_count": 10,
     "metadata": {},
     "output_type": "execute_result"
    },
    {
     "data": {
      "image/png": "[encoded data removed]",
      "text/plain": [
       "<Figure size 432x288 with 1 Axes>"
      ]
     },
     "metadata": {
      "needs_background": "light"
     },
     "output_type": "display_data"
    }
   ],
   "source": [
    "# Plot a forecast of the AMC adj closed on the next 10 days based on the past prices of AMC\n",
    "\n",
    "pd.DataFrame(results.forecast(steps = 10)[0]).plot(title = 'AMC returns forecast')"
   ]
  },
  {
   "cell_type": "code",
   "execution_count": null,
   "id": "54f55d8a-d32e-4074-8f19-9e3a714a8a74",
   "metadata": {},
   "outputs": [],
   "source": []
  },
  {
   "cell_type": "code",
   "execution_count": null,
   "id": "5af361af-c944-4690-a6ca-75983beea0f9",
   "metadata": {},
   "outputs": [],
   "source": []
  }
 ],
 "metadata": {
  "kernelspec": {
   "display_name": "Python 3",
   "language": "python",
   "name": "python3"
  },
  "language_info": {
   "codemirror_mode": {
    "name": "ipython",
    "version": 3
   },
   "file_extension": ".py",
   "mimetype": "text/x-python",
   "name": "python",
   "nbconvert_exporter": "python",
   "pygments_lexer": "ipython3",
   "version": "3.7.10"
  }
 },
 "nbformat": 4,
 "nbformat_minor": 5
}
